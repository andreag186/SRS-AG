{
 "cells": [
  {
   "cell_type": "markdown",
   "id": "f8fc6946-3f8f-487b-ac20-ccc9d58e56e1",
   "metadata": {
    "tags": []
   },
   "source": [
    "# **TITLE**\n",
    "### Author : Andrea Grecu"
   ]
  },
  {
   "cell_type": "markdown",
   "id": "23c04c8d-eea7-45fb-8086-dd44c6f07d67",
   "metadata": {},
   "source": [
    "## **Background | Pūtake**\n",
    "\n",
    "Orr et al., (2020) described a phylogenomic method to measure somatic mutations within a phenotypically mosaic plant individual and further predict the somatic mutation rate within that individual. Both the bioinformatic workflow (*aka. pipeline*) and inputted data used are open-access and found within the orginal journal publication linked below.\n",
    "\n",
    "[Orr et al., ORIGINAL!](https://www.ncbi.nlm.nih.gov/pmc/articles/PMC7126060/)\n",
    "\n",
    "The original pipeline created by Orr et al., (2020) was published within a github repository utilizing many bioinformatics tools which cumitavley written in  5+ programming languages. The suggested method to replicate this pipeline is via using the makefiles provided.\n",
    "\n",
    "### Āheitanga\n",
    "\n",
    "***While the original pipeline is open access, it is not particulary user friendly.***\n",
    "\n",
    "Computational methods within bioinformatics often fall short in reproducbility due to insufficient or inacessible documentation (Birmingham, 2017). It is imperative to the progression of bioinformatics research that an effort is made to produce interactive methods which are accessible to a wider audience with limited computer literacy. \n",
    "\n",
    "> ### Thus, the purpose of this notebook is to provide an easy to follow replication of the original pipeline created by Orr et al., (2020) to detect somatic mutations. \n",
    ">The notebook provides a *computational narrative* incorporating inputs, outputs and easy to understand explanations of each step. \n",
    "> By detailing the assumptions,logic, necessary input data and expected ouput this notebook should enable this pipeline to be applied to a new set of collected data.\n"
   ]
  },
  {
   "cell_type": "markdown",
   "id": "4479475f-03ac-4f6a-9695-bf89e1dd7bdf",
   "metadata": {},
   "source": [
    "## **Pipeline Technological Limitations | Tepenga**\n",
    "\n",
    "Considering this pipeline utilizes many (24+) whole genome reads, it requires great computational capacity which restricts the technology which it can be succesfully run on.\n",
    "\n",
    "While some changes can be made to the scripts to adapt for different RAM and thread values of your device, it is not recommended to run this pipeline on a device with capacity much lower than the default (*as this will likely take a very long time to run and much of the memory of your device*). \n",
    "\n",
    "> ### Default Capacity\n",
    "> **RAM = 64 GB**\n",
    ">\n",
    "> **CPU = 20 Threads**\n",
    "\n",
    "\n"
   ]
  },
  {
   "cell_type": "markdown",
   "id": "fc030401-943e-498b-b82d-8cabeceb38d6",
   "metadata": {},
   "source": [
    "## **Required Software Installation |  Tāuta**\n",
    "\n",
    "Prior to running this pipeline, the appropiate software's must be installed. \n",
    "This can be done directly within this notebook by running the cells below."
   ]
  },
  {
   "cell_type": "markdown",
   "id": "9a69e977-8284-4e03-b6e3-de6c1d9b05d0",
   "metadata": {},
   "source": [
    "#### Bioconda \n",
    "Most of the packages used further along in this pipeline are provided via the **Bioconda** channel (package manager). \n",
    "\n",
    "More information about bioconda can be found [here](https://bioconda.github.io/)\n",
    "\n",
    "***To install bioconda run the code cell below.***"
   ]
  },
  {
   "cell_type": "code",
   "execution_count": 5,
   "id": "e8e4a15d-f2be-4be9-9d5c-0b849b566bf8",
   "metadata": {
    "collapsed": true,
    "jupyter": {
     "outputs_hidden": true
    },
    "tags": []
   },
   "outputs": [
    {
     "name": "stdout",
     "output_type": "stream",
     "text": [
      "Warning: 'defaults' already in 'channels' list, moving to the top\n",
      "Warning: 'bioconda' already in 'channels' list, moving to the top\n",
      "Warning: 'conda-forge' already in 'channels' list, moving to the top\n"
     ]
    }
   ],
   "source": [
    "import sys \n",
    "!conda config --add channels defaults\n",
    "!conda config --add channels bioconda\n",
    "!conda config --add channels conda-forge\n",
    "!conda config --set channel_priority strict"
   ]
  },
  {
   "cell_type": "markdown",
   "id": "9437073e-10b3-439b-97e6-e802cacf338d",
   "metadata": {},
   "source": [
    "#### Khmer\n",
    "\n",
    "The khmer software allows for nucleotide sequence analysis, and is necessary for step (* COME BACK) -> uses the clean reads shell (Crusoe et al., 2015). \n",
    "\n",
    "More information on Khmer can be found [here](https://github.com/dib-lab/khmer)\n",
    "\n",
    "***To install Khmer run the code cell below.***"
   ]
  },
  {
   "cell_type": "code",
   "execution_count": 6,
   "id": "5924bebf-68b9-4c3b-b033-50a47224db79",
   "metadata": {
    "collapsed": true,
    "jupyter": {
     "outputs_hidden": true
    },
    "tags": []
   },
   "outputs": [
    {
     "name": "stdout",
     "output_type": "stream",
     "text": [
      "Collecting package metadata (current_repodata.json): done\n",
      "Solving environment: done\n",
      "\n",
      "\n",
      "==> WARNING: A newer version of conda exists. <==\n",
      "  current version: 22.11.0\n",
      "  latest version: 22.11.1\n",
      "\n",
      "Please update conda by running\n",
      "\n",
      "    $ conda update -n base -c defaults conda\n",
      "\n",
      "Or to minimize the number of packages updated during conda update use\n",
      "\n",
      "     conda install conda=22.11.1\n",
      "\n",
      "\n",
      "\n",
      "# All requested packages already installed.\n",
      "\n"
     ]
    }
   ],
   "source": [
    "import sys\n",
    "!conda install --yes --prefix {sys.prefix} khmer"
   ]
  },
  {
   "cell_type": "markdown",
   "id": "47c2ea08-92b5-4652-a4c2-83b65ceaebac",
   "metadata": {},
   "source": [
    "#### Rcorrector\n",
    "\n",
    "The Rcorrector software allows for the correction of Illumina RNA-seq , and is necessary for cleaning the reads (STEP 1*)(Song & Florea, 2015). \n",
    "\n",
    "More information on Rcorrector can be found [here](https://github.com/mourisl/Rcorrector)\n",
    "\n",
    "***To install Rcorrector run the code cell below.***"
   ]
  },
  {
   "cell_type": "code",
   "execution_count": 40,
   "id": "1258991f-4456-4d7e-b6b5-652336e19b80",
   "metadata": {
    "collapsed": true,
    "jupyter": {
     "outputs_hidden": true
    },
    "tags": []
   },
   "outputs": [
    {
     "name": "stderr",
     "output_type": "stream",
     "text": [
      "1794.94s - pydevd: Sending message related to process being replaced timed-out after 5 seconds\n"
     ]
    },
    {
     "name": "stdout",
     "output_type": "stream",
     "text": [
      "Retrieving notices: ...working... done\n",
      "Collecting package metadata (current_repodata.json): done\n",
      "Solving environment: done\n",
      "\n",
      "\n",
      "==> WARNING: A newer version of conda exists. <==\n",
      "  current version: 22.11.0\n",
      "  latest version: 22.11.1\n",
      "\n",
      "Please update conda by running\n",
      "\n",
      "    $ conda update -n base -c defaults conda\n",
      "\n",
      "Or to minimize the number of packages updated during conda update use\n",
      "\n",
      "     conda install conda=22.11.1\n",
      "\n",
      "\n",
      "\n",
      "# All requested packages already installed.\n",
      "\n"
     ]
    }
   ],
   "source": [
    "import sys\n",
    "!conda install --yes --prefix {sys.prefix} rcorrector"
   ]
  },
  {
   "cell_type": "markdown",
   "id": "0e3749a0-6e7a-4819-8b81-cd31563d6072",
   "metadata": {},
   "source": [
    "#### NextGenMap\n",
    "\n",
    "The NextGenMap software allows for short read mapping with a high sensitivity threshold, and is necessary for step ?* (Sedlazeck et al., 2013).\n",
    "\n",
    "More information on NextGenMap can be found [here](https://github.com/Cibiv/NextGenMap/wiki)\n",
    "\n",
    "***To install NextGenMap run the code cell below.***"
   ]
  },
  {
   "cell_type": "code",
   "execution_count": 2,
   "id": "1841983f-b3fa-44e6-a0b0-6aba5dbeaa26",
   "metadata": {
    "collapsed": true,
    "jupyter": {
     "outputs_hidden": true
    },
    "tags": []
   },
   "outputs": [
    {
     "name": "stdout",
     "output_type": "stream",
     "text": [
      "Collecting package metadata (current_repodata.json): done\n",
      "Solving environment: done\n",
      "\n",
      "\n",
      "==> WARNING: A newer version of conda exists. <==\n",
      "  current version: 22.11.0\n",
      "  latest version: 22.11.1\n",
      "\n",
      "Please update conda by running\n",
      "\n",
      "    $ conda update -n base -c defaults conda\n",
      "\n",
      "Or to minimize the number of packages updated during conda update use\n",
      "\n",
      "     conda install conda=22.11.1\n",
      "\n",
      "\n",
      "\n",
      "# All requested packages already installed.\n",
      "\n"
     ]
    }
   ],
   "source": [
    "import sys\n",
    "!conda install --yes --prefix {sys.prefix} nextgenmap"
   ]
  },
  {
   "cell_type": "markdown",
   "id": "40336b83-39fb-49df-97f0-89aadbb95d48",
   "metadata": {},
   "source": [
    "#### GNU Parallel\n",
    "\n",
    "The GNU Parallel operating system is a free software used to conduct jobs in parallel, and is necessary for step ?* (Tange, 2018).\n",
    "\n",
    "More information on GNU Parallel can be found [here](https://www.gnu.org/software/parallel/)\n",
    "\n",
    "***To install GNU Parallel run the code cell below.***"
   ]
  },
  {
   "cell_type": "code",
   "execution_count": 4,
   "id": "6c7fba73-5faa-4f73-b994-5ebbf070b744",
   "metadata": {
    "collapsed": true,
    "jupyter": {
     "outputs_hidden": true
    },
    "tags": []
   },
   "outputs": [
    {
     "name": "stdout",
     "output_type": "stream",
     "text": [
      "Collecting package metadata (current_repodata.json): done\n",
      "Solving environment: done\n",
      "\n",
      "\n",
      "==> WARNING: A newer version of conda exists. <==\n",
      "  current version: 22.11.0\n",
      "  latest version: 22.11.1\n",
      "\n",
      "Please update conda by running\n",
      "\n",
      "    $ conda update -n base -c defaults conda\n",
      "\n",
      "Or to minimize the number of packages updated during conda update use\n",
      "\n",
      "     conda install conda=22.11.1\n",
      "\n",
      "\n",
      "\n",
      "# All requested packages already installed.\n",
      "\n"
     ]
    }
   ],
   "source": [
    "import sys\n",
    "!conda install --yes --prefix {sys.prefix} parallel"
   ]
  },
  {
   "cell_type": "markdown",
   "id": "1adc27d7-99f6-406c-a504-f01b364fcb76",
   "metadata": {},
   "source": [
    "#### Samtools\n",
    "\n",
    "The Samtools software enables manipulation of next-generation sequencing data, and is necessary for step ?* (Danecek et al., 2021).\n",
    "\n",
    "More information on Samtools can be found [here](https://github.com/samtools/samtools)\n",
    "\n",
    "***To install Samtools run the code cell below.***"
   ]
  },
  {
   "cell_type": "code",
   "execution_count": 11,
   "id": "2d7ea843-b4b0-4ba0-a274-bb7433663693",
   "metadata": {
    "collapsed": true,
    "jupyter": {
     "outputs_hidden": true
    },
    "tags": []
   },
   "outputs": [
    {
     "name": "stdout",
     "output_type": "stream",
     "text": [
      "Collecting package metadata (current_repodata.json): done\n",
      "Solving environment: done\n",
      "\n",
      "\n",
      "==> WARNING: A newer version of conda exists. <==\n",
      "  current version: 22.11.0\n",
      "  latest version: 22.11.1\n",
      "\n",
      "Please update conda by running\n",
      "\n",
      "    $ conda update -n base -c defaults conda\n",
      "\n",
      "Or to minimize the number of packages updated during conda update use\n",
      "\n",
      "     conda install conda=22.11.1\n",
      "\n",
      "\n",
      "\n",
      "# All requested packages already installed.\n",
      "\n"
     ]
    }
   ],
   "source": [
    "import sys\n",
    "!conda install --yes --prefix {sys.prefix} samtools"
   ]
  },
  {
   "cell_type": "markdown",
   "id": "b06a9546-90a9-4c6a-9439-11fd0507f5c0",
   "metadata": {},
   "source": [
    "#### BCFtools\n",
    "\n",
    "The BCFtools software provides commands used by Samtools and HTSlib which are adjacently installed (Danecek et al., 2021).\n",
    "\n",
    "More information on BCFtools can be found [here](https://github.com/samtools/bcftools)\n",
    "\n",
    "***To install BFCtools run the code cell below.***"
   ]
  },
  {
   "cell_type": "code",
   "execution_count": null,
   "id": "a586e825-fbdb-4d1f-9202-36caa131d678",
   "metadata": {
    "collapsed": true,
    "jupyter": {
     "outputs_hidden": true
    },
    "tags": []
   },
   "outputs": [
    {
     "name": "stdout",
     "output_type": "stream",
     "text": [
      "Collecting package metadata (current_repodata.json): done\n",
      "Solving environment: done\n",
      "\n",
      "\n",
      "==> WARNING: A newer version of conda exists. <==\n",
      "  current version: 22.11.0\n",
      "  latest version: 22.11.1\n",
      "\n",
      "Please update conda by running\n",
      "\n",
      "    $ conda update -n base -c defaults conda\n",
      "\n",
      "Or to minimize the number of packages updated during conda update use\n",
      "\n",
      "     conda install conda=22.11.1\n",
      "\n",
      "\n",
      "\n",
      "# All requested packages already installed.\n",
      "\n"
     ]
    }
   ],
   "source": [
    "import sys\n",
    "!conda install --yes --prefix {sys.prefix} bcftools"
   ]
  },
  {
   "cell_type": "markdown",
   "id": "44e52d2e-88d2-4057-b050-17faa48ea7d1",
   "metadata": {},
   "source": [
    "#### HTSlib\n",
    "\n",
    "The HTSlib is a C library used for high-throughput sequencing formats used within Samtools and BCFtools (Bonfield et al., 2021).\n",
    "\n",
    "More information on HTSlib can be found [here](https://github.com/samtools/htslib)\n",
    "\n",
    "***To install HTSlib run the code cell below.***"
   ]
  },
  {
   "cell_type": "code",
   "execution_count": 13,
   "id": "15f14fb8-64dc-433c-92c7-64625d1e2735",
   "metadata": {
    "collapsed": true,
    "jupyter": {
     "outputs_hidden": true
    },
    "tags": []
   },
   "outputs": [
    {
     "name": "stdout",
     "output_type": "stream",
     "text": [
      "Collecting package metadata (current_repodata.json): done\n",
      "Solving environment: done\n",
      "\n",
      "\n",
      "==> WARNING: A newer version of conda exists. <==\n",
      "  current version: 22.11.0\n",
      "  latest version: 22.11.1\n",
      "\n",
      "Please update conda by running\n",
      "\n",
      "    $ conda update -n base -c defaults conda\n",
      "\n",
      "Or to minimize the number of packages updated during conda update use\n",
      "\n",
      "     conda install conda=22.11.1\n",
      "\n",
      "\n",
      "\n",
      "# All requested packages already installed.\n",
      "\n"
     ]
    }
   ],
   "source": [
    "import sys\n",
    "!conda install --yes --prefix {sys.prefix} htslib"
   ]
  },
  {
   "cell_type": "markdown",
   "id": "d93f8ff0-51c6-4ab0-be2e-65a0ddd1f151",
   "metadata": {
    "tags": []
   },
   "source": [
    "#### GATK\n",
    "\n",
    "GATK is a **G**enome **A**nalysis **T**ool**K**it designed to identify variants in genomes and is used throughout the pipeline (O’Connor & Van der Auwera, 2020).\n",
    "\n",
    "More information on GATK can be found [here](https://gatk.broadinstitute.org/hc/en-us)\n",
    "\n",
    "***To install GATK run the code cell below.***"
   ]
  },
  {
   "cell_type": "code",
   "execution_count": 14,
   "id": "d87fc2d0-3f2e-41bb-817f-6e1a049fb874",
   "metadata": {
    "collapsed": true,
    "jupyter": {
     "outputs_hidden": true
    },
    "tags": []
   },
   "outputs": [
    {
     "name": "stdout",
     "output_type": "stream",
     "text": [
      "Collecting package metadata (current_repodata.json): done\n",
      "Solving environment: done\n",
      "\n",
      "\n",
      "==> WARNING: A newer version of conda exists. <==\n",
      "  current version: 22.11.0\n",
      "  latest version: 22.11.1\n",
      "\n",
      "Please update conda by running\n",
      "\n",
      "    $ conda update -n base -c defaults conda\n",
      "\n",
      "Or to minimize the number of packages updated during conda update use\n",
      "\n",
      "     conda install conda=22.11.1\n",
      "\n",
      "\n",
      "\n",
      "# All requested packages already installed.\n",
      "\n"
     ]
    }
   ],
   "source": [
    "import sys\n",
    "!conda install --yes --prefix {sys.prefix} gatk"
   ]
  },
  {
   "cell_type": "markdown",
   "id": "2649da02-74ca-4d3d-b4ed-d55228f52d68",
   "metadata": {},
   "source": [
    "#### RAxML\n",
    "\n",
    "RAxML is a **R**andomized **A**xelerated **M**aximised **L**ikelihood algorithim enabling maximum likelihood phylogenetic tree searches and is used in step ?* (Stamatakis, 2006).\n",
    "\n",
    "More information on RAxML can be found [here](https://cme.h-its.org/exelixis/web/software/raxml/index.html)\n",
    "\n",
    "***To install RAxML run the code cell below.***"
   ]
  },
  {
   "cell_type": "code",
   "execution_count": 16,
   "id": "1f06b05b-61e5-49bf-af51-e9e58de17b2d",
   "metadata": {
    "collapsed": true,
    "jupyter": {
     "outputs_hidden": true
    },
    "tags": []
   },
   "outputs": [
    {
     "name": "stdout",
     "output_type": "stream",
     "text": [
      "Collecting package metadata (current_repodata.json): done\n",
      "Solving environment: done\n",
      "\n",
      "\n",
      "==> WARNING: A newer version of conda exists. <==\n",
      "  current version: 22.11.0\n",
      "  latest version: 22.11.1\n",
      "\n",
      "Please update conda by running\n",
      "\n",
      "    $ conda update -n base -c defaults conda\n",
      "\n",
      "Or to minimize the number of packages updated during conda update use\n",
      "\n",
      "     conda install conda=22.11.1\n",
      "\n",
      "\n",
      "\n",
      "# All requested packages already installed.\n",
      "\n"
     ]
    }
   ],
   "source": [
    "import sys\n",
    "!conda install --yes --prefix {sys.prefix} raxml"
   ]
  },
  {
   "cell_type": "markdown",
   "id": "e9610524-f1dd-4cd3-bdf5-18e0b3cb782a",
   "metadata": {},
   "source": [
    "#### Bedtools\n",
    "\n",
    "The bedtools software encompasses many algorithimic programmes used for genome analysis and is used in step ?* (Quinlan & Hall, 2010).\n",
    "\n",
    "More information on bedtools can be found [here](https://bedtools.readthedocs.io/en/latest/)\n",
    "\n",
    "***To install Bedtools run the code cell below.***"
   ]
  },
  {
   "cell_type": "code",
   "execution_count": 17,
   "id": "7c00407b-fd26-4890-9415-e7b5b4bc2fa2",
   "metadata": {
    "collapsed": true,
    "jupyter": {
     "outputs_hidden": true
    },
    "tags": []
   },
   "outputs": [
    {
     "name": "stdout",
     "output_type": "stream",
     "text": [
      "Collecting package metadata (current_repodata.json): done\n",
      "Solving environment: done\n",
      "\n",
      "\n",
      "==> WARNING: A newer version of conda exists. <==\n",
      "  current version: 22.11.0\n",
      "  latest version: 22.11.1\n",
      "\n",
      "Please update conda by running\n",
      "\n",
      "    $ conda update -n base -c defaults conda\n",
      "\n",
      "Or to minimize the number of packages updated during conda update use\n",
      "\n",
      "     conda install conda=22.11.1\n",
      "\n",
      "\n",
      "\n",
      "# All requested packages already installed.\n",
      "\n"
     ]
    }
   ],
   "source": [
    "import sys\n",
    "!conda install --yes --prefix {sys.prefix} bedtools"
   ]
  },
  {
   "cell_type": "markdown",
   "id": "7e316aa6-e49a-49c0-844e-1a769f9eecf7",
   "metadata": {},
   "source": [
    "#### UCSC LiftOver\n",
    "\n",
    "LiftOver is a tool provided within the UCSC Genome Browser used to collate genetic analyses to the same build, version or collate assemblies (Hinrichs et al., 2006).\n",
    "\n",
    "More information on LiftOver can be found [here](http://hgdownload.cse.ucsc.edu/admin/exe/)\n",
    "\n",
    "***To install LiftOver run the code cell below.***"
   ]
  },
  {
   "cell_type": "code",
   "execution_count": 18,
   "id": "9b0b78d2-6979-4103-9caa-ca96fa93ea66",
   "metadata": {
    "collapsed": true,
    "jupyter": {
     "outputs_hidden": true
    },
    "tags": []
   },
   "outputs": [
    {
     "name": "stdout",
     "output_type": "stream",
     "text": [
      "Collecting package metadata (current_repodata.json): done\n",
      "Solving environment: done\n",
      "\n",
      "\n",
      "==> WARNING: A newer version of conda exists. <==\n",
      "  current version: 22.11.0\n",
      "  latest version: 22.11.1\n",
      "\n",
      "Please update conda by running\n",
      "\n",
      "    $ conda update -n base -c defaults conda\n",
      "\n",
      "Or to minimize the number of packages updated during conda update use\n",
      "\n",
      "     conda install conda=22.11.1\n",
      "\n",
      "\n",
      "\n",
      "# All requested packages already installed.\n",
      "\n"
     ]
    }
   ],
   "source": [
    "import sys\n",
    "!conda install --yes --prefix {sys.prefix} ucsc-liftover"
   ]
  },
  {
   "cell_type": "markdown",
   "id": "37ff7090-d444-4e07-9c4d-5abba54e574c",
   "metadata": {},
   "source": [
    "#### VCFtools\n",
    "\n",
    "The VCFtools program package enables operations such as filtering and categorising variants of VCF (**V**ariant **C**all **F**ormat) files and is used in step ?* (Danecek et al., 2011).\n",
    "\n",
    "More information on VCFtools can be found [here](https://vcftools.github.io/)\n",
    "\n",
    "***To install VCFtools run the code cell below.***"
   ]
  },
  {
   "cell_type": "code",
   "execution_count": 19,
   "id": "d412a89f-361d-495f-bf54-e32be35c712b",
   "metadata": {
    "collapsed": true,
    "jupyter": {
     "outputs_hidden": true
    },
    "tags": []
   },
   "outputs": [
    {
     "name": "stdout",
     "output_type": "stream",
     "text": [
      "Collecting package metadata (current_repodata.json): done\n",
      "Solving environment: done\n",
      "\n",
      "\n",
      "==> WARNING: A newer version of conda exists. <==\n",
      "  current version: 22.11.0\n",
      "  latest version: 22.11.1\n",
      "\n",
      "Please update conda by running\n",
      "\n",
      "    $ conda update -n base -c defaults conda\n",
      "\n",
      "Or to minimize the number of packages updated during conda update use\n",
      "\n",
      "     conda install conda=22.11.1\n",
      "\n",
      "\n",
      "\n",
      "# All requested packages already installed.\n",
      "\n"
     ]
    }
   ],
   "source": [
    "import sys\n",
    "!conda install --yes --prefix {sys.prefix} vcftools"
   ]
  },
  {
   "cell_type": "markdown",
   "id": "00e44263-618b-4b86-855c-597aa47345a4",
   "metadata": {},
   "source": [
    "## **Data Input Requirements | Tāuru Raraunga**\n",
    "\n",
    "### Data Collection \n",
    "\n",
    "Orr et al.,(2020) sampled data from a phenotypically mosaic *Eucalyptus melliodora* individual (aka. a Yellow Box tree) in which it was known that one branch expressed resistance to defoliation via the *Anoploganthus* or Christmas beetle genus. From 8 distinct branches, 3 replicate samples were taken from the leaf tip in order to sequence the full genome. \n",
    "\n",
    "Data collected to be used within this pipeline is not restrictive in the number of samples but rather the number of replicates per sample;\n",
    "\n",
    "> #### **!!! TIP !!!**\n",
    ">*There must be at least 2 replicates per sample and an equal number of replicates across all samples. Each sample should be sequenced fully to produce a genome via Illumina.\n",
    "The suffix of the each replicate for one sample should be formatted as follows :*\n",
    "**Sample1a, Sample1b, Sample1c etc.**\n",
    ">\n",
    ">*The raw data inputted should be paired sequencing reads for each sample in FASTQ format. The suffix of the pair files per replicate should be* **\"R1.fastq\"** *and* **\"R2.fastq\"**\n",
    ">\n",
    ">> Raw Data should be deposited in the raw folder (/rep_files/data/raw/), in a new folder \"my_data\". You will see the raw data used by Orr et al.,(2020) in the raw folder which will be used by default.\n",
    "Each **replicate** of one **sample** should have two files in the following format: ***\"Sample1a_R1.fastq\"*** !!!!!!\n",
    "\n",
    "As always, considerations into collecting and using data in a respectful and responsible manner towards communities (across all taxa) should take precedence. \n",
    "\n",
    "### Pseudogenome\n",
    "\n",
    "There was no high-quality reference genome available for *E. melliodora* thus a pseudoreference genome was created using the reference genome of the closely related *Eucalyptus grandis* aka. Rose Gum tree (Bartholomé et al., 2014). \n",
    "> #### **!!! TIP !!!**\n",
    ">*If replicating with your own data, use either the most closely related high quality reference genome available for your sampled taxa OR for your exact taxa if available.*\n",
    ">\n",
    ">*The genome should be in a Fa-file format within a new folder inside the data folder labelled \"my_ref\" (rep_files/data/my_ref/) and the file itself called \"ref.fa\".*\n",
    ">\n",
    ">The *E.grandis* genome found in the \"e_grandis\" folder (/rep_files/data/e_grandis/) will be used by default otherwise.\n"
   ]
  },
  {
   "cell_type": "markdown",
   "id": "710b40d6-548a-40f2-9a78-c138d499dfc8",
   "metadata": {},
   "source": [
    "# **Analysis Makefile**\n",
    "The first makefile that Orr et al., (2020) suggests executing is found within the analysis folder of the repository files. This makefile uses 4 different scripts from the scripts folder, and can be broken down into **? main steps**.\n",
    "> *Below are descriptions of each stage considering inputs, ouputs, set variables and any potential errors.*"
   ]
  },
  {
   "cell_type": "markdown",
   "id": "972e226c-4089-4b5f-bf54-fdb0f25b03e6",
   "metadata": {},
   "source": [
    "### **Step One | Read Correction**\n",
    "The first step of the pipeline is to *correct* the raw reads.\n",
    "\n",
    "This step utilizes the algorthims provided by the **[Rcorrector](https://www.researchgate.net/publication/283260409_Rcorrector_efficient_and_accurate_error_correction_for_Illumina_RNA-seq_reads)** software to determine trusted kmers (using a De Brujin Graph) which will be further used in the next step to correct random sequencing errors producing sliced reads.\n",
    "\n",
    "#### **Input Data**\n",
    "> Raw reads with the suffix \"R1.fastq\" within the directory specified via the **READSFOLDER** variable are utilized. *I.e. the first of the paired reads for one replicate*. By default this is **\"../data/raw/\"**.\n",
    "> \n",
    "> If using your own raw reads, you may change the directory utilising the code in the stage one cell below when calling the makefile or by overwriting the makefile itself.\n",
    ">\n",
    ">> **IF YOU ARE USING YOUR OWN RAW READS AND REFERENCE GENOME UTILIZE THE CODE UNDER RUNNING MAKEFILE!!!**\n",
    "\n",
    "#### **Scripts Used**\n",
    "> Lines 100-103 of the script clean_reads.sh execute this step. \n",
    ">\n",
    "> The clean_reads.sh script is called in line 25 of the Makefile\n",
    "> (This utilizies the directories set via **SCRIPTDIR** and **CLEANREADS**).\n",
    "\n",
    "#### **Output Produced**\n",
    "> The corrected reads will be outputted in a folder named \"corrected\" in the \"cleaned_reads\" folder specified by **CLEANFOLDER**. \n",
    "> \n",
    "> The code in the stage one cell can be used to check if the corrected files have been succesfully produced in the right folder."
   ]
  },
  {
   "cell_type": "code",
   "execution_count": null,
   "id": "c7416a38-0b61-488e-a356-f70351e13f08",
   "metadata": {},
   "outputs": [],
   "source": [
    "# STEP ONE CODE\n",
    "\n",
    "# Use own raw data \n",
    "#!make READSFOLDER=../data/raw/my_data/\n",
    "\n",
    "# Check Corrected Reads \n",
    "#!ls [path]/rep_files/analysis/cleaned_reads/"
   ]
  },
  {
   "cell_type": "markdown",
   "id": "32130ea3-fd8b-4758-a2f6-a9c0f6b42174",
   "metadata": {},
   "source": [
    "### **Step Two | Khmer Count Graph**\n",
    "The second step is to store trusted kmers in a khmer graph"
   ]
  },
  {
   "cell_type": "code",
   "execution_count": 2,
   "id": "410ed7f9-840a-458d-a374-20c117c2adaa",
   "metadata": {
    "tags": []
   },
   "outputs": [
    {
     "data": {
      "text/plain": [
       "'/home/agre945/anaconda3/envs/studyenv/GitHub/SRS-AG/rep_files/analysis'"
      ]
     },
     "execution_count": 2,
     "metadata": {},
     "output_type": "execute_result"
    }
   ],
   "source": [
    "# Change Directory\n",
    "import os\n",
    "os.getcwd() #run this line first to get your own analysis folder file path and replace below\n",
    "os.chdir('/home/agre945/anaconda3/envs/studyenv/GitHub/SRS-AG/rep_files/analysis')\n",
    "os.getcwd()# run to check working directory correct"
   ]
  },
  {
   "cell_type": "code",
   "execution_count": null,
   "id": "c9594c08-65a0-40c5-a662-8bd320277748",
   "metadata": {
    "tags": []
   },
   "outputs": [
    {
     "name": "stdout",
     "output_type": "stream",
     "text": [
      "../scripts/clean_reads.sh -i ../data/raw/\n",
      "Put the kmers into bloom filter\n",
      "jellyfish bc -m 32 -s 100000000 -C -t 18 -o tmp_f95afb0c8b8a1bf93582a1633e3d352f.bc ../data/raw/SRR9650834_RRR1.fastq ../data/raw/SRR9650834_RRR2.fastq \n",
      "Count the kmers in the bloom filter\n",
      "jellyfish count -m 32 -s 100000 -C -t 18 --bc tmp_f95afb0c8b8a1bf93582a1633e3d352f.bc -o tmp_f95afb0c8b8a1bf93582a1633e3d352f.mer_counts ../data/raw/SRR9650834_RRR1.fastq ../data/raw/SRR9650834_RRR2.fastq \n",
      "Dump the kmers\n",
      "jellyfish dump -L 2 tmp_f95afb0c8b8a1bf93582a1633e3d352f.mer_counts > tmp_f95afb0c8b8a1bf93582a1633e3d352f.jf_dump\n",
      "Error correction\n",
      "/home/agre945/anaconda3/envs/studyenv/bin/rcorrector -k 32 -t 18 -od ./cleaned_reads/corrected/  -p ../data/raw/SRR9650834_RRR1.fastq ../data/raw/SRR9650834_RRR2.fastq -c tmp_f95afb0c8b8a1bf93582a1633e3d352f.jf_dump\n",
      "Stored 692403282 kmers\n",
      "Weak kmer threshold rate: 0.062266 (estimated from 0.950/1 of the chosen kmers)\n",
      "Bad quality threshold is '#'\n",
      "Processed 117106412 reads\n",
      "\tCorrected 36692238 bases.\n",
      "Put the kmers into bloom filter\n",
      "jellyfish bc -m 32 -s 100000000 -C -t 18 -o tmp_9d6396a8196db197ce60fece2e68ac3a.bc ../data/raw/SRR9650839_RRR1.fastq ../data/raw/SRR9650839_RRR2.fastq \n",
      "Count the kmers in the bloom filter\n",
      "jellyfish count -m 32 -s 100000 -C -t 18 --bc tmp_9d6396a8196db197ce60fece2e68ac3a.bc -o tmp_9d6396a8196db197ce60fece2e68ac3a.mer_counts ../data/raw/SRR9650839_RRR1.fastq ../data/raw/SRR9650839_RRR2.fastq \n",
      "Dump the kmers\n",
      "jellyfish dump -L 2 tmp_9d6396a8196db197ce60fece2e68ac3a.mer_counts > tmp_9d6396a8196db197ce60fece2e68ac3a.jf_dump\n",
      "Error correction\n",
      "/home/agre945/anaconda3/envs/studyenv/bin/rcorrector -k 32 -t 18 -od ./cleaned_reads/corrected/  -p ../data/raw/SRR9650839_RRR1.fastq ../data/raw/SRR9650839_RRR2.fastq -c tmp_9d6396a8196db197ce60fece2e68ac3a.jf_dump\n",
      "Stored 643791033 kmers\n",
      "Weak kmer threshold rate: 0.035679 (estimated from 0.950/1 of the chosen kmers)\n",
      "Bad quality threshold is '#'\n",
      "Processed 74977390 reads\n",
      "\tCorrected 22601983 bases.\n",
      "Put the kmers into bloom filter\n",
      "jellyfish bc -m 32 -s 100000000 -C -t 18 -o tmp_3322ccefacf07b4f91c3c89792c3706a.bc ../data/raw/SRR9650844_RRR1.fastq ../data/raw/SRR9650844_RRR2.fastq \n",
      "Count the kmers in the bloom filter\n",
      "jellyfish count -m 32 -s 100000 -C -t 18 --bc tmp_3322ccefacf07b4f91c3c89792c3706a.bc -o tmp_3322ccefacf07b4f91c3c89792c3706a.mer_counts ../data/raw/SRR9650844_RRR1.fastq ../data/raw/SRR9650844_RRR2.fastq \n",
      "Dump the kmers\n",
      "jellyfish dump -L 2 tmp_3322ccefacf07b4f91c3c89792c3706a.mer_counts > tmp_3322ccefacf07b4f91c3c89792c3706a.jf_dump\n",
      "Error correction\n",
      "/home/agre945/anaconda3/envs/studyenv/bin/rcorrector -k 32 -t 18 -od ./cleaned_reads/corrected/  -p ../data/raw/SRR9650844_RRR1.fastq ../data/raw/SRR9650844_RRR2.fastq -c tmp_3322ccefacf07b4f91c3c89792c3706a.jf_dump\n",
      "Stored 626347040 kmers\n",
      "Weak kmer threshold rate: 0.033490 (estimated from 0.950/1 of the chosen kmers)\n",
      "Bad quality threshold is '#'\n",
      "Processed 69671690 reads\n",
      "\tCorrected 22656161 bases.\n",
      "Put the kmers into bloom filter\n",
      "jellyfish bc -m 32 -s 100000000 -C -t 18 -o tmp_0d27108454364293668d7f54fbf822cc.bc ../data/raw/SRR9650835_RRR1.fastq ../data/raw/SRR9650835_RRR2.fastq \n",
      "Count the kmers in the bloom filter\n",
      "jellyfish count -m 32 -s 100000 -C -t 18 --bc tmp_0d27108454364293668d7f54fbf822cc.bc -o tmp_0d27108454364293668d7f54fbf822cc.mer_counts ../data/raw/SRR9650835_RRR1.fastq ../data/raw/SRR9650835_RRR2.fastq \n",
      "Dump the kmers\n",
      "jellyfish dump -L 2 tmp_0d27108454364293668d7f54fbf822cc.mer_counts > tmp_0d27108454364293668d7f54fbf822cc.jf_dump\n",
      "Error correction\n",
      "/home/agre945/anaconda3/envs/studyenv/bin/rcorrector -k 32 -t 18 -od ./cleaned_reads/corrected/  -p ../data/raw/SRR9650835_RRR1.fastq ../data/raw/SRR9650835_RRR2.fastq -c tmp_0d27108454364293668d7f54fbf822cc.jf_dump\n",
      "Stored 618525695 kmers\n",
      "Weak kmer threshold rate: 0.029971 (estimated from 0.950/1 of the chosen kmers)\n",
      "Bad quality threshold is '#'\n",
      "Processed 65061066 reads\n",
      "\tCorrected 18419945 bases.\n",
      "Put the kmers into bloom filter\n",
      "jellyfish bc -m 32 -s 100000000 -C -t 18 -o tmp_ed77af3752527f1b6f18802008de0670.bc ../data/raw/SRR9650833_RRR1.fastq ../data/raw/SRR9650833_RRR2.fastq \n",
      "Count the kmers in the bloom filter\n",
      "jellyfish count -m 32 -s 100000 -C -t 18 --bc tmp_ed77af3752527f1b6f18802008de0670.bc -o tmp_ed77af3752527f1b6f18802008de0670.mer_counts ../data/raw/SRR9650833_RRR1.fastq ../data/raw/SRR9650833_RRR2.fastq \n",
      "Dump the kmers\n",
      "jellyfish dump -L 2 tmp_ed77af3752527f1b6f18802008de0670.mer_counts > tmp_ed77af3752527f1b6f18802008de0670.jf_dump\n",
      "Error correction\n",
      "/home/agre945/anaconda3/envs/studyenv/bin/rcorrector -k 32 -t 18 -od ./cleaned_reads/corrected/  -p ../data/raw/SRR9650833_RRR1.fastq ../data/raw/SRR9650833_RRR2.fastq -c tmp_ed77af3752527f1b6f18802008de0670.jf_dump\n",
      "Stored 651632329 kmers\n",
      "Weak kmer threshold rate: 0.036394 (estimated from 0.950/1 of the chosen kmers)\n",
      "Bad quality threshold is '#'\n",
      "Processed 81306404 reads\n",
      "\tCorrected 30013591 bases.\n",
      "Put the kmers into bloom filter\n",
      "jellyfish bc -m 32 -s 100000000 -C -t 18 -o tmp_4560d3565dd8b7e40c0fbf6ea4f41f82.bc ../data/raw/SRR9650842_RRR1.fastq ../data/raw/SRR9650842_RRR2.fastq \n",
      "Count the kmers in the bloom filter\n",
      "jellyfish count -m 32 -s 100000 -C -t 18 --bc tmp_4560d3565dd8b7e40c0fbf6ea4f41f82.bc -o tmp_4560d3565dd8b7e40c0fbf6ea4f41f82.mer_counts ../data/raw/SRR9650842_RRR1.fastq ../data/raw/SRR9650842_RRR2.fastq \n",
      "Dump the kmers\n",
      "jellyfish dump -L 2 tmp_4560d3565dd8b7e40c0fbf6ea4f41f82.mer_counts > tmp_4560d3565dd8b7e40c0fbf6ea4f41f82.jf_dump\n",
      "Error correction\n",
      "/home/agre945/anaconda3/envs/studyenv/bin/rcorrector -k 32 -t 18 -od ./cleaned_reads/corrected/  -p ../data/raw/SRR9650842_RRR1.fastq ../data/raw/SRR9650842_RRR2.fastq -c tmp_4560d3565dd8b7e40c0fbf6ea4f41f82.jf_dump\n",
      "Stored 577412307 kmers\n",
      "Weak kmer threshold rate: 0.022135 (estimated from 0.950/1 of the chosen kmers)\n",
      "Bad quality threshold is '#'\n",
      "Processed 56773822 reads\n",
      "\tCorrected 16546717 bases.\n",
      "Put the kmers into bloom filter\n",
      "jellyfish bc -m 32 -s 100000000 -C -t 18 -o tmp_71380c6699cbf52f13b30781ee550d51.bc ../data/raw/SRR9650838_RRR1.fastq ../data/raw/SRR9650838_RRR2.fastq \n",
      "Count the kmers in the bloom filter\n",
      "jellyfish count -m 32 -s 100000 -C -t 18 --bc tmp_71380c6699cbf52f13b30781ee550d51.bc -o tmp_71380c6699cbf52f13b30781ee550d51.mer_counts ../data/raw/SRR9650838_RRR1.fastq ../data/raw/SRR9650838_RRR2.fastq \n",
      "Dump the kmers\n",
      "jellyfish dump -L 2 tmp_71380c6699cbf52f13b30781ee550d51.mer_counts > tmp_71380c6699cbf52f13b30781ee550d51.jf_dump\n",
      "Error correction\n",
      "/home/agre945/anaconda3/envs/studyenv/bin/rcorrector -k 32 -t 18 -od ./cleaned_reads/corrected/  -p ../data/raw/SRR9650838_RRR1.fastq ../data/raw/SRR9650838_RRR2.fastq -c tmp_71380c6699cbf52f13b30781ee550d51.jf_dump\n",
      "Stored 659181119 kmers\n",
      "Weak kmer threshold rate: 0.045070 (estimated from 0.950/1 of the chosen kmers)\n",
      "Bad quality threshold is '#'\n",
      "Processed 80357994 reads\n",
      "\tCorrected 25075745 bases.\n",
      "Put the kmers into bloom filter\n",
      "jellyfish bc -m 32 -s 100000000 -C -t 18 -o tmp_4543cfe3187ba58c7278c51d7f399877.bc ../data/raw/SRR9650852_RRR1.fastq ../data/raw/SRR9650852_RRR2.fastq \n",
      "Count the kmers in the bloom filter\n",
      "jellyfish count -m 32 -s 100000 -C -t 18 --bc tmp_4543cfe3187ba58c7278c51d7f399877.bc -o tmp_4543cfe3187ba58c7278c51d7f399877.mer_counts ../data/raw/SRR9650852_RRR1.fastq ../data/raw/SRR9650852_RRR2.fastq \n",
      "Dump the kmers\n",
      "jellyfish dump -L 2 tmp_4543cfe3187ba58c7278c51d7f399877.mer_counts > tmp_4543cfe3187ba58c7278c51d7f399877.jf_dump\n",
      "Error correction\n",
      "/home/agre945/anaconda3/envs/studyenv/bin/rcorrector -k 32 -t 18 -od ./cleaned_reads/corrected/  -p ../data/raw/SRR9650852_RRR1.fastq ../data/raw/SRR9650852_RRR2.fastq -c tmp_4543cfe3187ba58c7278c51d7f399877.jf_dump\n",
      "Stored 631934627 kmers\n",
      "Weak kmer threshold rate: 0.034227 (estimated from 0.950/1 of the chosen kmers)\n",
      "Bad quality threshold is '#'\n",
      "Processed 70747232 reads\n",
      "\tCorrected 23212197 bases.\n",
      "Put the kmers into bloom filter\n",
      "jellyfish bc -m 32 -s 100000000 -C -t 18 -o tmp_e01f559661a72a997dfad19c920c87d6.bc ../data/raw/SRR9650851_RRR1.fastq ../data/raw/SRR9650851_RRR2.fastq \n",
      "Count the kmers in the bloom filter\n",
      "jellyfish count -m 32 -s 100000 -C -t 18 --bc tmp_e01f559661a72a997dfad19c920c87d6.bc -o tmp_e01f559661a72a997dfad19c920c87d6.mer_counts ../data/raw/SRR9650851_RRR1.fastq ../data/raw/SRR9650851_RRR2.fastq \n",
      "Dump the kmers\n",
      "jellyfish dump -L 2 tmp_e01f559661a72a997dfad19c920c87d6.mer_counts > tmp_e01f559661a72a997dfad19c920c87d6.jf_dump\n",
      "Error correction\n",
      "/home/agre945/anaconda3/envs/studyenv/bin/rcorrector -k 32 -t 18 -od ./cleaned_reads/corrected/  -p ../data/raw/SRR9650851_RRR1.fastq ../data/raw/SRR9650851_RRR2.fastq -c tmp_e01f559661a72a997dfad19c920c87d6.jf_dump\n",
      "Stored 721045210 kmers\n",
      "Weak kmer threshold rate: 0.052061 (estimated from 0.950/1 of the chosen kmers)\n",
      "Bad quality threshold is '#'\n",
      "Processed 110386982 reads\n",
      "\tCorrected 32993962 bases.\n",
      "Put the kmers into bloom filter\n",
      "jellyfish bc -m 32 -s 100000000 -C -t 18 -o tmp_a5336d2192d4de36efbb59606792b479.bc ../data/raw/SRR9650855_RRR1.fastq ../data/raw/SRR9650855_RRR2.fastq \n",
      "Count the kmers in the bloom filter\n",
      "jellyfish count -m 32 -s 100000 -C -t 18 --bc tmp_a5336d2192d4de36efbb59606792b479.bc -o tmp_a5336d2192d4de36efbb59606792b479.mer_counts ../data/raw/SRR9650855_RRR1.fastq ../data/raw/SRR9650855_RRR2.fastq \n",
      "Dump the kmers\n",
      "jellyfish dump -L 2 tmp_a5336d2192d4de36efbb59606792b479.mer_counts > tmp_a5336d2192d4de36efbb59606792b479.jf_dump\n",
      "Error correction\n",
      "/home/agre945/anaconda3/envs/studyenv/bin/rcorrector -k 32 -t 18 -od ./cleaned_reads/corrected/  -p ../data/raw/SRR9650855_RRR1.fastq ../data/raw/SRR9650855_RRR2.fastq -c tmp_a5336d2192d4de36efbb59606792b479.jf_dump\n",
      "Stored 623176199 kmers\n",
      "Weak kmer threshold rate: 0.038660 (estimated from 0.950/1 of the chosen kmers)\n",
      "Bad quality threshold is '#'\n",
      "Processed 67262232 reads\n",
      "\tCorrected 22241893 bases.\n",
      "Put the kmers into bloom filter\n",
      "jellyfish bc -m 32 -s 100000000 -C -t 18 -o tmp_f3584214eef7b852921f83e1711fc7e1.bc ../data/raw/SRR9650837_RRR1.fastq ../data/raw/SRR9650837_RRR2.fastq \n",
      "Count the kmers in the bloom filter\n",
      "jellyfish count -m 32 -s 100000 -C -t 18 --bc tmp_f3584214eef7b852921f83e1711fc7e1.bc -o tmp_f3584214eef7b852921f83e1711fc7e1.mer_counts ../data/raw/SRR9650837_RRR1.fastq ../data/raw/SRR9650837_RRR2.fastq \n",
      "Dump the kmers\n",
      "jellyfish dump -L 2 tmp_f3584214eef7b852921f83e1711fc7e1.mer_counts > tmp_f3584214eef7b852921f83e1711fc7e1.jf_dump\n",
      "Error correction\n",
      "/home/agre945/anaconda3/envs/studyenv/bin/rcorrector -k 32 -t 18 -od ./cleaned_reads/corrected/  -p ../data/raw/SRR9650837_RRR1.fastq ../data/raw/SRR9650837_RRR2.fastq -c tmp_f3584214eef7b852921f83e1711fc7e1.jf_dump\n",
      "Stored 683566339 kmers\n",
      "Weak kmer threshold rate: 0.053970 (estimated from 0.950/1 of the chosen kmers)\n",
      "Bad quality threshold is '#'\n",
      "Processed 102033408 reads\n",
      "\tCorrected 35627980 bases.\n",
      "Put the kmers into bloom filter\n",
      "jellyfish bc -m 32 -s 100000000 -C -t 18 -o tmp_d427b1fe15e624537579494f1ca67537.bc ../data/raw/SRR9650856_RRR1.fastq ../data/raw/SRR9650856_RRR2.fastq \n",
      "Count the kmers in the bloom filter\n",
      "jellyfish count -m 32 -s 100000 -C -t 18 --bc tmp_d427b1fe15e624537579494f1ca67537.bc -o tmp_d427b1fe15e624537579494f1ca67537.mer_counts ../data/raw/SRR9650856_RRR1.fastq ../data/raw/SRR9650856_RRR2.fastq \n",
      "Dump the kmers\n",
      "jellyfish dump -L 2 tmp_d427b1fe15e624537579494f1ca67537.mer_counts > tmp_d427b1fe15e624537579494f1ca67537.jf_dump\n",
      "Error correction\n",
      "/home/agre945/anaconda3/envs/studyenv/bin/rcorrector -k 32 -t 18 -od ./cleaned_reads/corrected/  -p ../data/raw/SRR9650856_RRR1.fastq ../data/raw/SRR9650856_RRR2.fastq -c tmp_d427b1fe15e624537579494f1ca67537.jf_dump\n",
      "Stored 554162685 kmers\n",
      "Weak kmer threshold rate: 0.019892 (estimated from 0.950/1 of the chosen kmers)\n",
      "Bad quality threshold is '#'\n",
      "Processed 51194062 reads\n",
      "\tCorrected 18275637 bases.\n",
      "Put the kmers into bloom filter\n",
      "jellyfish bc -m 32 -s 100000000 -C -t 18 -o tmp_e1daf205dffe60c1afdd295369080c22.bc ../data/raw/SRR9650840_RRR1.fastq ../data/raw/SRR9650840_RRR2.fastq \n",
      "Count the kmers in the bloom filter\n",
      "jellyfish count -m 32 -s 100000 -C -t 18 --bc tmp_e1daf205dffe60c1afdd295369080c22.bc -o tmp_e1daf205dffe60c1afdd295369080c22.mer_counts ../data/raw/SRR9650840_RRR1.fastq ../data/raw/SRR9650840_RRR2.fastq \n",
      "Dump the kmers\n",
      "jellyfish dump -L 2 tmp_e1daf205dffe60c1afdd295369080c22.mer_counts > tmp_e1daf205dffe60c1afdd295369080c22.jf_dump\n",
      "Error correction\n",
      "/home/agre945/anaconda3/envs/studyenv/bin/rcorrector -k 32 -t 18 -od ./cleaned_reads/corrected/  -p ../data/raw/SRR9650840_RRR1.fastq ../data/raw/SRR9650840_RRR2.fastq -c tmp_e1daf205dffe60c1afdd295369080c22.jf_dump\n",
      "Stored 668317447 kmers\n",
      "Weak kmer threshold rate: 0.034501 (estimated from 0.950/1 of the chosen kmers)\n",
      "Bad quality threshold is '#'\n",
      "Processed 89224270 reads\n",
      "\tCorrected 27981325 bases.\n",
      "Put the kmers into bloom filter\n",
      "jellyfish bc -m 32 -s 100000000 -C -t 18 -o tmp_7abeed28be0a363578d9c028fccbf96e.bc ../data/raw/SRR9650841_RRR1.fastq ../data/raw/SRR9650841_RRR2.fastq \n",
      "Count the kmers in the bloom filter\n",
      "jellyfish count -m 32 -s 100000 -C -t 18 --bc tmp_7abeed28be0a363578d9c028fccbf96e.bc -o tmp_7abeed28be0a363578d9c028fccbf96e.mer_counts ../data/raw/SRR9650841_RRR1.fastq ../data/raw/SRR9650841_RRR2.fastq \n",
      "Dump the kmers\n",
      "jellyfish dump -L 2 tmp_7abeed28be0a363578d9c028fccbf96e.mer_counts > tmp_7abeed28be0a363578d9c028fccbf96e.jf_dump\n",
      "Error correction\n",
      "/home/agre945/anaconda3/envs/studyenv/bin/rcorrector -k 32 -t 18 -od ./cleaned_reads/corrected/  -p ../data/raw/SRR9650841_RRR1.fastq ../data/raw/SRR9650841_RRR2.fastq -c tmp_7abeed28be0a363578d9c028fccbf96e.jf_dump\n",
      "Stored 559434835 kmers\n",
      "Weak kmer threshold rate: 0.021157 (estimated from 0.950/1 of the chosen kmers)\n",
      "Bad quality threshold is '#'\n",
      "Processed 52559226 reads\n",
      "\tCorrected 17755452 bases.\n",
      "Put the kmers into bloom filter\n",
      "jellyfish bc -m 32 -s 100000000 -C -t 18 -o tmp_668e2c09761bf8e1b36bbae3b997fd12.bc ../data/raw/SRR9650849_RRR1.fastq ../data/raw/SRR9650849_RRR2.fastq \n",
      "Count the kmers in the bloom filter\n",
      "jellyfish count -m 32 -s 100000 -C -t 18 --bc tmp_668e2c09761bf8e1b36bbae3b997fd12.bc -o tmp_668e2c09761bf8e1b36bbae3b997fd12.mer_counts ../data/raw/SRR9650849_RRR1.fastq ../data/raw/SRR9650849_RRR2.fastq \n",
      "Dump the kmers\n",
      "jellyfish dump -L 2 tmp_668e2c09761bf8e1b36bbae3b997fd12.mer_counts > tmp_668e2c09761bf8e1b36bbae3b997fd12.jf_dump\n",
      "Error correction\n",
      "/home/agre945/anaconda3/envs/studyenv/bin/rcorrector -k 32 -t 18 -od ./cleaned_reads/corrected/  -p ../data/raw/SRR9650849_RRR1.fastq ../data/raw/SRR9650849_RRR2.fastq -c tmp_668e2c09761bf8e1b36bbae3b997fd12.jf_dump\n",
      "Stored 651679480 kmers\n",
      "Weak kmer threshold rate: 0.040211 (estimated from 0.950/1 of the chosen kmers)\n",
      "Bad quality threshold is '#'\n"
     ]
    }
   ],
   "source": [
    "# Export the path for the scripts used\n",
    "!export PATH=$PATH:/home/agre945/anaconda3/envs/studyenv/GitHub/SRS-AG/rep_files/scripts\n",
    "#Run the makefile\n",
    "!make"
   ]
  }
 ],
 "metadata": {
  "kernelspec": {
   "display_name": "studyenv",
   "language": "python",
   "name": "studyenv"
  },
  "language_info": {
   "codemirror_mode": {
    "name": "ipython",
    "version": 3
   },
   "file_extension": ".py",
   "mimetype": "text/x-python",
   "name": "python",
   "nbconvert_exporter": "python",
   "pygments_lexer": "ipython3",
   "version": "3.8.15"
  }
 },
 "nbformat": 4,
 "nbformat_minor": 5
}
