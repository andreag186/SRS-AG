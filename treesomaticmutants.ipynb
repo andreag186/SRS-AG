{
 "cells": [
  {
   "cell_type": "markdown",
   "id": "f8fc6946-3f8f-487b-ac20-ccc9d58e56e1",
   "metadata": {
    "tags": []
   },
   "source": [
    "# **TITLE**\n",
    "### Author : Andrea Grecu"
   ]
  },
  {
   "cell_type": "markdown",
   "id": "23c04c8d-eea7-45fb-8086-dd44c6f07d67",
   "metadata": {},
   "source": [
    "## **Background | Pūtake**\n",
    "\n",
    "Orr et al., (2020) described a phylogenomic method to measure somatic mutations within a phenotypically mosaic plant individual and further predict the somatic mutation rate within that individual. Both the bioinformatic workflow (*aka. pipeline*) and inputted data used are open-access and found within the orginal journal publication linked below.\n",
    "\n",
    "[Orr et al., ORIGINAL!](https://www.ncbi.nlm.nih.gov/pmc/articles/PMC7126060/)\n",
    "\n",
    "The original pipeline created by Orr et al., (2020) was published within a github repository utilizing many bioinformatics tools using  5+ programming languages overall. The suggested method to replicate this pipeline is via using the makefiles provided.\n",
    "\n",
    "### Āheitanga\n",
    "\n",
    "***While the original pipeline is open access, it is not particulary user friendly.***\n",
    "\n",
    "Computational methods within bioinformatics often fall short in reproducbility due to insufficient or inacessible documentation (Birmingham, 2017). It is imperative to the progression of bioinformatics research that an effort is made to produce interactive methods which are accessible to a wider audience with limited computer literacy. \n",
    "\n",
    "> ### Thus, the purpose of this notebook is to provide an easy to follow replication of the original pipeline created by Orr et al., (2020) to detect somatic mutations. \n",
    ">The notebook provides a *computational narrative* incorporating inputs, outputs and easy to understand explanations of each step. \n",
    "> By detailing the assumptions,logic, necessary input data and expected ouput this notebook should enable this pipeline to be applied to a new set of collected data.\n"
   ]
  },
  {
   "cell_type": "markdown",
   "id": "4479475f-03ac-4f6a-9695-bf89e1dd7bdf",
   "metadata": {},
   "source": [
    "## **Pipeline Technological Limitations | Tepenga**\n",
    "\n"
   ]
  },
  {
   "cell_type": "markdown",
   "id": "fc030401-943e-498b-b82d-8cabeceb38d6",
   "metadata": {},
   "source": [
    "## **Required Software Installation |  Tāuta**\n",
    "\n",
    "Prior to running this pipeline, the appropiate software's must be installed. \n",
    "This can be done directly within this notebook by running the cells below."
   ]
  },
  {
   "cell_type": "markdown",
   "id": "9a69e977-8284-4e03-b6e3-de6c1d9b05d0",
   "metadata": {},
   "source": [
    "#### Bioconda \n",
    "Most of the packages used further along in this pipeline are provided via the **Bioconda** channel (package manager). \n",
    "\n",
    "More information about bioconda can be found [here](https://bioconda.github.io/)\n",
    "\n",
    "***To install bioconda run the code cell below.***"
   ]
  },
  {
   "cell_type": "code",
   "execution_count": 5,
   "id": "e8e4a15d-f2be-4be9-9d5c-0b849b566bf8",
   "metadata": {
    "collapsed": true,
    "jupyter": {
     "outputs_hidden": true
    },
    "tags": []
   },
   "outputs": [
    {
     "name": "stdout",
     "output_type": "stream",
     "text": [
      "Warning: 'defaults' already in 'channels' list, moving to the top\n",
      "Warning: 'bioconda' already in 'channels' list, moving to the top\n",
      "Warning: 'conda-forge' already in 'channels' list, moving to the top\n"
     ]
    }
   ],
   "source": [
    "import sys \n",
    "!conda config --add channels defaults\n",
    "!conda config --add channels bioconda\n",
    "!conda config --add channels conda-forge\n",
    "!conda config --set channel_priority strict"
   ]
  },
  {
   "cell_type": "markdown",
   "id": "9437073e-10b3-439b-97e6-e802cacf338d",
   "metadata": {},
   "source": [
    "#### Khmer\n",
    "\n",
    "The khmer software allows for nucleotide sequence analysis, and is necessary for step (* COME BACK) -> uses the clean reads shell (Crusoe et al., 2015). \n",
    "\n",
    "More information on Khmer can be found [here](https://github.com/dib-lab/khmer)\n",
    "\n",
    "***To install Khmer run the code cell below.***"
   ]
  },
  {
   "cell_type": "code",
   "execution_count": 6,
   "id": "5924bebf-68b9-4c3b-b033-50a47224db79",
   "metadata": {
    "collapsed": true,
    "jupyter": {
     "outputs_hidden": true
    },
    "tags": []
   },
   "outputs": [
    {
     "name": "stdout",
     "output_type": "stream",
     "text": [
      "Collecting package metadata (current_repodata.json): done\n",
      "Solving environment: done\n",
      "\n",
      "\n",
      "==> WARNING: A newer version of conda exists. <==\n",
      "  current version: 22.11.0\n",
      "  latest version: 22.11.1\n",
      "\n",
      "Please update conda by running\n",
      "\n",
      "    $ conda update -n base -c defaults conda\n",
      "\n",
      "Or to minimize the number of packages updated during conda update use\n",
      "\n",
      "     conda install conda=22.11.1\n",
      "\n",
      "\n",
      "\n",
      "# All requested packages already installed.\n",
      "\n"
     ]
    }
   ],
   "source": [
    "import sys\n",
    "!conda install --yes --prefix {sys.prefix} khmer"
   ]
  },
  {
   "cell_type": "markdown",
   "id": "47c2ea08-92b5-4652-a4c2-83b65ceaebac",
   "metadata": {},
   "source": [
    "#### Rcorrector\n",
    "\n",
    "The Rcorrector software allows for the correction of Illumina RNA-seq , and is necessary for cleaning the reads (STEP 1*)(Song & Florea, 2015). \n",
    "\n",
    "More information on Rcorrector can be found [here](https://github.com/mourisl/Rcorrector)\n",
    "\n",
    "***To install Rcorrector run the code cell below.***"
   ]
  },
  {
   "cell_type": "code",
   "execution_count": 40,
   "id": "1258991f-4456-4d7e-b6b5-652336e19b80",
   "metadata": {
    "collapsed": true,
    "jupyter": {
     "outputs_hidden": true
    },
    "tags": []
   },
   "outputs": [
    {
     "name": "stderr",
     "output_type": "stream",
     "text": [
      "1794.94s - pydevd: Sending message related to process being replaced timed-out after 5 seconds\n"
     ]
    },
    {
     "name": "stdout",
     "output_type": "stream",
     "text": [
      "Retrieving notices: ...working... done\n",
      "Collecting package metadata (current_repodata.json): done\n",
      "Solving environment: done\n",
      "\n",
      "\n",
      "==> WARNING: A newer version of conda exists. <==\n",
      "  current version: 22.11.0\n",
      "  latest version: 22.11.1\n",
      "\n",
      "Please update conda by running\n",
      "\n",
      "    $ conda update -n base -c defaults conda\n",
      "\n",
      "Or to minimize the number of packages updated during conda update use\n",
      "\n",
      "     conda install conda=22.11.1\n",
      "\n",
      "\n",
      "\n",
      "# All requested packages already installed.\n",
      "\n"
     ]
    }
   ],
   "source": [
    "import sys\n",
    "!conda install --yes --prefix {sys.prefix} rcorrector"
   ]
  },
  {
   "cell_type": "markdown",
   "id": "0e3749a0-6e7a-4819-8b81-cd31563d6072",
   "metadata": {},
   "source": [
    "#### NextGenMap\n",
    "\n",
    "The NextGenMap software allows for short read mapping with a high sensitivity threshold, and is necessary for step ?* (Sedlazeck et al., 2013).\n",
    "\n",
    "More information on NextGenMap can be found [here](https://github.com/Cibiv/NextGenMap/wiki)\n",
    "\n",
    "***To install NextGenMap run the code cell below.***"
   ]
  },
  {
   "cell_type": "code",
   "execution_count": 2,
   "id": "1841983f-b3fa-44e6-a0b0-6aba5dbeaa26",
   "metadata": {
    "collapsed": true,
    "jupyter": {
     "outputs_hidden": true
    },
    "tags": []
   },
   "outputs": [
    {
     "name": "stdout",
     "output_type": "stream",
     "text": [
      "Collecting package metadata (current_repodata.json): done\n",
      "Solving environment: done\n",
      "\n",
      "\n",
      "==> WARNING: A newer version of conda exists. <==\n",
      "  current version: 22.11.0\n",
      "  latest version: 22.11.1\n",
      "\n",
      "Please update conda by running\n",
      "\n",
      "    $ conda update -n base -c defaults conda\n",
      "\n",
      "Or to minimize the number of packages updated during conda update use\n",
      "\n",
      "     conda install conda=22.11.1\n",
      "\n",
      "\n",
      "\n",
      "# All requested packages already installed.\n",
      "\n"
     ]
    }
   ],
   "source": [
    "import sys\n",
    "!conda install --yes --prefix {sys.prefix} nextgenmap"
   ]
  },
  {
   "cell_type": "markdown",
   "id": "40336b83-39fb-49df-97f0-89aadbb95d48",
   "metadata": {},
   "source": [
    "#### GNU Parallel\n",
    "\n",
    "The GNU Parallel operating system is a free software used to conduct jobs in parallel, and is necessary for step ?* (Tange, 2018).\n",
    "\n",
    "More information on GNU Parallel can be found [here](https://www.gnu.org/software/parallel/)\n",
    "\n",
    "***To install GNU Parallel run the code cell below.***"
   ]
  },
  {
   "cell_type": "code",
   "execution_count": 4,
   "id": "6c7fba73-5faa-4f73-b994-5ebbf070b744",
   "metadata": {
    "collapsed": true,
    "jupyter": {
     "outputs_hidden": true
    },
    "tags": []
   },
   "outputs": [
    {
     "name": "stdout",
     "output_type": "stream",
     "text": [
      "Collecting package metadata (current_repodata.json): done\n",
      "Solving environment: done\n",
      "\n",
      "\n",
      "==> WARNING: A newer version of conda exists. <==\n",
      "  current version: 22.11.0\n",
      "  latest version: 22.11.1\n",
      "\n",
      "Please update conda by running\n",
      "\n",
      "    $ conda update -n base -c defaults conda\n",
      "\n",
      "Or to minimize the number of packages updated during conda update use\n",
      "\n",
      "     conda install conda=22.11.1\n",
      "\n",
      "\n",
      "\n",
      "# All requested packages already installed.\n",
      "\n"
     ]
    }
   ],
   "source": [
    "import sys\n",
    "!conda install --yes --prefix {sys.prefix} parallel"
   ]
  },
  {
   "cell_type": "markdown",
   "id": "1adc27d7-99f6-406c-a504-f01b364fcb76",
   "metadata": {},
   "source": [
    "#### Samtools\n",
    "\n",
    "The Samtools software enables manipulation of next-generation sequencing data, and is necessary for step ?* (Danecek et al., 2021).\n",
    "\n",
    "More information on Samtools can be found [here](https://github.com/samtools/samtools)\n",
    "\n",
    "***To install Samtools run the code cell below.***"
   ]
  },
  {
   "cell_type": "code",
   "execution_count": 11,
   "id": "2d7ea843-b4b0-4ba0-a274-bb7433663693",
   "metadata": {
    "collapsed": true,
    "jupyter": {
     "outputs_hidden": true
    },
    "tags": []
   },
   "outputs": [
    {
     "name": "stdout",
     "output_type": "stream",
     "text": [
      "Collecting package metadata (current_repodata.json): done\n",
      "Solving environment: done\n",
      "\n",
      "\n",
      "==> WARNING: A newer version of conda exists. <==\n",
      "  current version: 22.11.0\n",
      "  latest version: 22.11.1\n",
      "\n",
      "Please update conda by running\n",
      "\n",
      "    $ conda update -n base -c defaults conda\n",
      "\n",
      "Or to minimize the number of packages updated during conda update use\n",
      "\n",
      "     conda install conda=22.11.1\n",
      "\n",
      "\n",
      "\n",
      "# All requested packages already installed.\n",
      "\n"
     ]
    }
   ],
   "source": [
    "import sys\n",
    "!conda install --yes --prefix {sys.prefix} samtools"
   ]
  },
  {
   "cell_type": "markdown",
   "id": "b06a9546-90a9-4c6a-9439-11fd0507f5c0",
   "metadata": {},
   "source": [
    "#### BCFtools\n",
    "\n",
    "The BCFtools software provides commands used by Samtools and HTSlib which are adjacently installed (Danecek et al., 2021).\n",
    "\n",
    "More information on BCFtools can be found [here](https://github.com/samtools/bcftools)\n",
    "\n",
    "***To install BFCtools run the code cell below.***"
   ]
  },
  {
   "cell_type": "code",
   "execution_count": null,
   "id": "a586e825-fbdb-4d1f-9202-36caa131d678",
   "metadata": {
    "collapsed": true,
    "jupyter": {
     "outputs_hidden": true
    },
    "tags": []
   },
   "outputs": [
    {
     "name": "stdout",
     "output_type": "stream",
     "text": [
      "Collecting package metadata (current_repodata.json): done\n",
      "Solving environment: done\n",
      "\n",
      "\n",
      "==> WARNING: A newer version of conda exists. <==\n",
      "  current version: 22.11.0\n",
      "  latest version: 22.11.1\n",
      "\n",
      "Please update conda by running\n",
      "\n",
      "    $ conda update -n base -c defaults conda\n",
      "\n",
      "Or to minimize the number of packages updated during conda update use\n",
      "\n",
      "     conda install conda=22.11.1\n",
      "\n",
      "\n",
      "\n",
      "# All requested packages already installed.\n",
      "\n"
     ]
    }
   ],
   "source": [
    "import sys\n",
    "!conda install --yes --prefix {sys.prefix} bcftools"
   ]
  },
  {
   "cell_type": "markdown",
   "id": "44e52d2e-88d2-4057-b050-17faa48ea7d1",
   "metadata": {},
   "source": [
    "#### HTSlib\n",
    "\n",
    "The HTSlib is a C library used for high-throughput sequencing formats used within Samtools and BCFtools (Bonfield et al., 2021).\n",
    "\n",
    "More information on HTSlib can be found [here](https://github.com/samtools/htslib)\n",
    "\n",
    "***To install HTSlib run the code cell below.***"
   ]
  },
  {
   "cell_type": "code",
   "execution_count": 13,
   "id": "15f14fb8-64dc-433c-92c7-64625d1e2735",
   "metadata": {
    "collapsed": true,
    "jupyter": {
     "outputs_hidden": true
    },
    "tags": []
   },
   "outputs": [
    {
     "name": "stdout",
     "output_type": "stream",
     "text": [
      "Collecting package metadata (current_repodata.json): done\n",
      "Solving environment: done\n",
      "\n",
      "\n",
      "==> WARNING: A newer version of conda exists. <==\n",
      "  current version: 22.11.0\n",
      "  latest version: 22.11.1\n",
      "\n",
      "Please update conda by running\n",
      "\n",
      "    $ conda update -n base -c defaults conda\n",
      "\n",
      "Or to minimize the number of packages updated during conda update use\n",
      "\n",
      "     conda install conda=22.11.1\n",
      "\n",
      "\n",
      "\n",
      "# All requested packages already installed.\n",
      "\n"
     ]
    }
   ],
   "source": [
    "import sys\n",
    "!conda install --yes --prefix {sys.prefix} htslib"
   ]
  },
  {
   "cell_type": "markdown",
   "id": "d93f8ff0-51c6-4ab0-be2e-65a0ddd1f151",
   "metadata": {
    "tags": []
   },
   "source": [
    "#### GATK\n",
    "\n",
    "GATK is a **G**enome **A**nalysis **T**ool**K**it designed to identify variants in genomes and is used throughout the pipeline (O’Connor & Van der Auwera, 2020).\n",
    "\n",
    "More information on GATK can be found [here](https://gatk.broadinstitute.org/hc/en-us)\n",
    "\n",
    "***To install GATK run the code cell below.***"
   ]
  },
  {
   "cell_type": "code",
   "execution_count": 14,
   "id": "d87fc2d0-3f2e-41bb-817f-6e1a049fb874",
   "metadata": {
    "collapsed": true,
    "jupyter": {
     "outputs_hidden": true
    },
    "tags": []
   },
   "outputs": [
    {
     "name": "stdout",
     "output_type": "stream",
     "text": [
      "Collecting package metadata (current_repodata.json): done\n",
      "Solving environment: done\n",
      "\n",
      "\n",
      "==> WARNING: A newer version of conda exists. <==\n",
      "  current version: 22.11.0\n",
      "  latest version: 22.11.1\n",
      "\n",
      "Please update conda by running\n",
      "\n",
      "    $ conda update -n base -c defaults conda\n",
      "\n",
      "Or to minimize the number of packages updated during conda update use\n",
      "\n",
      "     conda install conda=22.11.1\n",
      "\n",
      "\n",
      "\n",
      "# All requested packages already installed.\n",
      "\n"
     ]
    }
   ],
   "source": [
    "import sys\n",
    "!conda install --yes --prefix {sys.prefix} gatk"
   ]
  },
  {
   "cell_type": "markdown",
   "id": "2649da02-74ca-4d3d-b4ed-d55228f52d68",
   "metadata": {},
   "source": [
    "#### RAxML\n",
    "\n",
    "RAxML is a **R**andomized **A**xelerated **M**aximised **L**ikelihood algorithim enabling maximum likelihood phylogenetic tree searches and is used in step ?* (Stamatakis, 2006).\n",
    "\n",
    "More information on RAxML can be found [here](https://cme.h-its.org/exelixis/web/software/raxml/index.html)\n",
    "\n",
    "***To install RAxML run the code cell below.***"
   ]
  },
  {
   "cell_type": "code",
   "execution_count": 16,
   "id": "1f06b05b-61e5-49bf-af51-e9e58de17b2d",
   "metadata": {
    "collapsed": true,
    "jupyter": {
     "outputs_hidden": true
    },
    "tags": []
   },
   "outputs": [
    {
     "name": "stdout",
     "output_type": "stream",
     "text": [
      "Collecting package metadata (current_repodata.json): done\n",
      "Solving environment: done\n",
      "\n",
      "\n",
      "==> WARNING: A newer version of conda exists. <==\n",
      "  current version: 22.11.0\n",
      "  latest version: 22.11.1\n",
      "\n",
      "Please update conda by running\n",
      "\n",
      "    $ conda update -n base -c defaults conda\n",
      "\n",
      "Or to minimize the number of packages updated during conda update use\n",
      "\n",
      "     conda install conda=22.11.1\n",
      "\n",
      "\n",
      "\n",
      "# All requested packages already installed.\n",
      "\n"
     ]
    }
   ],
   "source": [
    "import sys\n",
    "!conda install --yes --prefix {sys.prefix} raxml"
   ]
  },
  {
   "cell_type": "markdown",
   "id": "e9610524-f1dd-4cd3-bdf5-18e0b3cb782a",
   "metadata": {},
   "source": [
    "#### Bedtools\n",
    "\n",
    "The bedtools software encompasses many algorithimic programmes used for genome analysis and is used in step ?* (Quinlan & Hall, 2010).\n",
    "\n",
    "More information on bedtools can be found [here](https://bedtools.readthedocs.io/en/latest/)\n",
    "\n",
    "***To install Bedtools run the code cell below.***"
   ]
  },
  {
   "cell_type": "code",
   "execution_count": 17,
   "id": "7c00407b-fd26-4890-9415-e7b5b4bc2fa2",
   "metadata": {
    "collapsed": true,
    "jupyter": {
     "outputs_hidden": true
    },
    "tags": []
   },
   "outputs": [
    {
     "name": "stdout",
     "output_type": "stream",
     "text": [
      "Collecting package metadata (current_repodata.json): done\n",
      "Solving environment: done\n",
      "\n",
      "\n",
      "==> WARNING: A newer version of conda exists. <==\n",
      "  current version: 22.11.0\n",
      "  latest version: 22.11.1\n",
      "\n",
      "Please update conda by running\n",
      "\n",
      "    $ conda update -n base -c defaults conda\n",
      "\n",
      "Or to minimize the number of packages updated during conda update use\n",
      "\n",
      "     conda install conda=22.11.1\n",
      "\n",
      "\n",
      "\n",
      "# All requested packages already installed.\n",
      "\n"
     ]
    }
   ],
   "source": [
    "import sys\n",
    "!conda install --yes --prefix {sys.prefix} bedtools"
   ]
  },
  {
   "cell_type": "markdown",
   "id": "7e316aa6-e49a-49c0-844e-1a769f9eecf7",
   "metadata": {},
   "source": [
    "#### UCSC LiftOver\n",
    "\n",
    "LiftOver is a tool provided within the UCSC Genome Browser used to collate genetic analyses to the same build, version or collate assemblies (Hinrichs et al., 2006).\n",
    "\n",
    "More information on LiftOver can be found [here](http://hgdownload.cse.ucsc.edu/admin/exe/)\n",
    "\n",
    "***To install LiftOver run the code cell below.***"
   ]
  },
  {
   "cell_type": "code",
   "execution_count": 18,
   "id": "9b0b78d2-6979-4103-9caa-ca96fa93ea66",
   "metadata": {
    "collapsed": true,
    "jupyter": {
     "outputs_hidden": true
    },
    "tags": []
   },
   "outputs": [
    {
     "name": "stdout",
     "output_type": "stream",
     "text": [
      "Collecting package metadata (current_repodata.json): done\n",
      "Solving environment: done\n",
      "\n",
      "\n",
      "==> WARNING: A newer version of conda exists. <==\n",
      "  current version: 22.11.0\n",
      "  latest version: 22.11.1\n",
      "\n",
      "Please update conda by running\n",
      "\n",
      "    $ conda update -n base -c defaults conda\n",
      "\n",
      "Or to minimize the number of packages updated during conda update use\n",
      "\n",
      "     conda install conda=22.11.1\n",
      "\n",
      "\n",
      "\n",
      "# All requested packages already installed.\n",
      "\n"
     ]
    }
   ],
   "source": [
    "import sys\n",
    "!conda install --yes --prefix {sys.prefix} ucsc-liftover"
   ]
  },
  {
   "cell_type": "markdown",
   "id": "37ff7090-d444-4e07-9c4d-5abba54e574c",
   "metadata": {},
   "source": [
    "#### VCFtools\n",
    "\n",
    "The VCFtools program package enables operations such as filtering and categorising variants of VCF (**V**ariant **C**all **F**ormat) files and is used in step ?* (Danecek et al., 2011).\n",
    "\n",
    "More information on VCFtools can be found [here](https://vcftools.github.io/)\n",
    "\n",
    "***To install VCFtools run the code cell below.***"
   ]
  },
  {
   "cell_type": "code",
   "execution_count": 19,
   "id": "d412a89f-361d-495f-bf54-e32be35c712b",
   "metadata": {
    "collapsed": true,
    "jupyter": {
     "outputs_hidden": true
    },
    "tags": []
   },
   "outputs": [
    {
     "name": "stdout",
     "output_type": "stream",
     "text": [
      "Collecting package metadata (current_repodata.json): done\n",
      "Solving environment: done\n",
      "\n",
      "\n",
      "==> WARNING: A newer version of conda exists. <==\n",
      "  current version: 22.11.0\n",
      "  latest version: 22.11.1\n",
      "\n",
      "Please update conda by running\n",
      "\n",
      "    $ conda update -n base -c defaults conda\n",
      "\n",
      "Or to minimize the number of packages updated during conda update use\n",
      "\n",
      "     conda install conda=22.11.1\n",
      "\n",
      "\n",
      "\n",
      "# All requested packages already installed.\n",
      "\n"
     ]
    }
   ],
   "source": [
    "import sys\n",
    "!conda install --yes --prefix {sys.prefix} vcftools"
   ]
  },
  {
   "cell_type": "markdown",
   "id": "00e44263-618b-4b86-855c-597aa47345a4",
   "metadata": {},
   "source": [
    "## **Data Input Requirements | Tāuru Raraunga**\n",
    "\n",
    "### Data Collection \n",
    "\n",
    "Orr et al.,(2020) sampled data from a phenotypically mosaic *Eucalyptus melliodora* individual (aka. a Yellow Box tree) in which it was known that one branch expressed resistance to defoliation via the *Anoploganthus* or Christmas beetle genus. From 8 distinct branches, 3 replicate samples were taken from the leaf tip in order to sequence the full genome. \n",
    "\n",
    "Data collected to be used within this pipeline is not restrictive in the number of samples but rather the number of replicates per sample;\n",
    "\n",
    "> #### **!!! TIP !!!**\n",
    ">*There must be at least 2 replicates per sample and an equal number of replicates across all samples*\n",
    "\n",
    "As always, considerations into collecting and using data in a respectful and responsible manner towards communities (across all taxa) should take precedence. \n",
    "\n",
    "### Pseudogenome\n",
    "\n",
    "There was no high-quality reference genome available for *E. melliodora* thus a pseudoreference genome was created using the reference genome of the closely related *Eucalyptus grandis* aka. Rose Gum tree. \n",
    "> #### If "
   ]
  },
  {
   "cell_type": "code",
   "execution_count": 2,
   "id": "410ed7f9-840a-458d-a374-20c117c2adaa",
   "metadata": {
    "tags": []
   },
   "outputs": [
    {
     "data": {
      "text/plain": [
       "'/home/agre945/Documents/GitHub/SRS-AG/rep_files/analysis'"
      ]
     },
     "execution_count": 2,
     "metadata": {},
     "output_type": "execute_result"
    }
   ],
   "source": [
    "# Change Directory\n",
    "import os\n",
    "os.getcwd() #run this line first to get your own analysis folder file path and replace below\n",
    "os.chdir('/home/agre945/Documents/GitHub/SRS-AG/rep_files/analysis')\n",
    "os.getcwd()# run to check working directory correct"
   ]
  },
  {
   "cell_type": "code",
   "execution_count": 4,
   "id": "c9594c08-65a0-40c5-a662-8bd320277748",
   "metadata": {
    "collapsed": true,
    "jupyter": {
     "outputs_hidden": true
    },
    "tags": []
   },
   "outputs": [
    {
     "name": "stdout",
     "output_type": "stream",
     "text": [
      "../scripts/clean_reads.sh -i ../data/raw/\n",
      "Put the kmers into bloom filter\n",
      "jellyfish bc -m 32 -s 100000000 -C -t 18 -o tmp_f95afb0c8b8a1bf93582a1633e3d352f.bc ../data/raw/SRR9650834_RRR1.fastq ../data/raw/SRR9650834_RRR2.fastq \n",
      "^C\n",
      "Failed at stage 0.\n",
      "make: *** [Makefile:25: cleaned_reads/SRR9650834_RRR1.cor_sliced.fastq] Error 1\n"
     ]
    }
   ],
   "source": [
    "# Analysis Makefile\n",
    "!make"
   ]
  }
 ],
 "metadata": {
  "kernelspec": {
   "display_name": "studyenv",
   "language": "python",
   "name": "studyenv"
  },
  "language_info": {
   "codemirror_mode": {
    "name": "ipython",
    "version": 3
   },
   "file_extension": ".py",
   "mimetype": "text/x-python",
   "name": "python",
   "nbconvert_exporter": "python",
   "pygments_lexer": "ipython3",
   "version": "3.8.15"
  }
 },
 "nbformat": 4,
 "nbformat_minor": 5
}
