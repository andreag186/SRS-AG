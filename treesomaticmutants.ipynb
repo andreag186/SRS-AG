{
 "cells": [
  {
   "cell_type": "markdown",
   "id": "f8fc6946-3f8f-487b-ac20-ccc9d58e56e1",
   "metadata": {
    "tags": []
   },
   "source": [
    "# **Jupyter Adaptation of Orr et al., (2020) Genomic Workflow**\n",
    "### Author : Andrea Maria Grecu"
   ]
  },
  {
   "cell_type": "markdown",
   "id": "23c04c8d-eea7-45fb-8086-dd44c6f07d67",
   "metadata": {},
   "source": [
    "## **Background | Pūtake**\n",
    "\n",
    "Orr et al., (2020) described a phylogenomic method to measure somatic mutations within a phenotypically mosaic plant individual and further predict the somatic mutation rate within that individual. Both the bioinformatic workflow (*aka. pipeline*) and inputted data used are open-access and found within the orginal journal publication linked below.\n",
    "\n",
    "[Orr et al., ORIGINAL!](https://www.ncbi.nlm.nih.gov/pmc/articles/PMC7126060/)\n",
    "\n",
    "The original pipeline created by Orr et al., (2020) was published within a github repository utilizing many bioinformatics tools which in total were written in 5+ programing languages. The suggested method to replicate this pipeline is via using the makefiles provided within files of the repository, although a pipeline utilising bash/python scripts directly is also outlined (in more detail than the suggested method).\n",
    "\n",
    "### Āheitanga\n",
    "\n",
    "***While the original pipeline is open access, it is not particulary user friendly.***\n",
    "\n",
    "Computational methods within bioinformatics often fall short in reproducbility due to insufficient or inacessible documentation (Birmingham, 2017). It is imperative to the progression of bioinformatics research that an effort is made to produce interactive methods which are accessible to a wider audience with limited computer literacy. \n",
    "\n",
    "> ### Thus, the purpose of this notebook is to provide an easy to follow replication of the original pipeline created by Orr et al., (2020) to detect somatic mutations. \n",
    ">The notebook provides a *computational narrative* incorporating inputs, outputs and easy to understand explanations of each step. \n",
    "> By detailing the assumptions,logic, necessary input data and expected ouput this notebook should enable this pipeline to be applied to a new set of collected data.\n"
   ]
  },
  {
   "cell_type": "markdown",
   "id": "4479475f-03ac-4f6a-9695-bf89e1dd7bdf",
   "metadata": {},
   "source": [
    "## **Pipeline Technological Limitations | Tepenga**\n",
    "\n",
    "Considering this pipeline utilizes many (24+) whole genome reads, it requires great computational capacity which restricts the technology which it can be succesfully run on. \n",
    "\n",
    "While some changes can be made to the scripts to adapt for different thread values of your device, it is not recommended to run this pipeline on a device with capacity much lower than the default (*as this will likely take a very long time to run*). Furthermore, although intermediate files can be deleted inbetween steps having sufficient RAM is required (*scripts will fail if sufficient memory is available on your local device*).\n",
    "\n",
    "Check the capacity of your device by running the code cell below...\n",
    "\n",
    "> ### Default Capacity\n",
    "> **RAM = 100 GB or 100,000,000 kb**\n",
    ">\n",
    "> **CPU = 48 Threads Total Available (20 IS MININMUM RECOMMENDED -> CAN BE ADJUSTED)**\n",
    "\n",
    "\n"
   ]
  },
  {
   "cell_type": "code",
   "execution_count": 9,
   "id": "53eb9f7d-06c7-436d-af73-d855ab4253d7",
   "metadata": {},
   "outputs": [
    {
     "name": "stdout",
     "output_type": "stream",
     "text": [
      "MemTotal:       4227627920 kB\n",
      "CPU threads: 128\n"
     ]
    }
   ],
   "source": [
    "# The lines below when run will show your total available RAM in !kb! and total available threads.\n",
    "!grep MemTotal /proc/meminfo\n",
    "!echo \"CPU threads: $(grep -c processor /proc/cpuinfo)\""
   ]
  },
  {
   "cell_type": "markdown",
   "id": "fc030401-943e-498b-b82d-8cabeceb38d6",
   "metadata": {},
   "source": [
    "## **Required Software Installation |  Tāuta**\n",
    "\n",
    "Prior to running this pipeline, the appropiate software must be installed. \n",
    "This can be done directly within this notebook by running the cells below.\n",
    "\n",
    "*ASSUMING YOU HAVE THE [CONDA PACKAGE MANAGER](https://docs.conda.io/en/latest/).*"
   ]
  },
  {
   "cell_type": "markdown",
   "id": "9a69e977-8284-4e03-b6e3-de6c1d9b05d0",
   "metadata": {},
   "source": [
    "#### Bioconda \n",
    "Most of the packages used further along in this pipeline are provided via the **Bioconda** channel (package manager). \n",
    "\n",
    "More information about bioconda can be found [here](https://bioconda.github.io/)\n",
    "\n",
    "***To install bioconda run the code cell below.***"
   ]
  },
  {
   "cell_type": "code",
   "execution_count": 1,
   "id": "e8e4a15d-f2be-4be9-9d5c-0b849b566bf8",
   "metadata": {
    "tags": []
   },
   "outputs": [
    {
     "name": "stdout",
     "output_type": "stream",
     "text": [
      "Warning: 'defaults' already in 'channels' list, moving to the top\n",
      "Warning: 'bioconda' already in 'channels' list, moving to the top\n",
      "Warning: 'conda-forge' already in 'channels' list, moving to the top\n"
     ]
    }
   ],
   "source": [
    "import sys \n",
    "!conda config --add channels defaults\n",
    "!conda config --add channels bioconda\n",
    "!conda config --add channels conda-forge\n",
    "!conda config --set channel_priority strict"
   ]
  },
  {
   "cell_type": "markdown",
   "id": "9437073e-10b3-439b-97e6-e802cacf338d",
   "metadata": {},
   "source": [
    "#### Khmer\n",
    "\n",
    "The khmer software allows for nucleotide sequence analysis, and is necessary to build a kmer count graph in step 2 for slicing reads (Crusoe et al., 2015). \n",
    "\n",
    "More information on Khmer can be found [here](https://github.com/dib-lab/khmer)\n",
    "\n",
    "***To install Khmer run the code cell below.***"
   ]
  },
  {
   "cell_type": "code",
   "execution_count": 4,
   "id": "5924bebf-68b9-4c3b-b033-50a47224db79",
   "metadata": {
    "collapsed": true,
    "jupyter": {
     "outputs_hidden": true
    },
    "tags": []
   },
   "outputs": [
    {
     "name": "stdout",
     "output_type": "stream",
     "text": [
      "Collecting package metadata (current_repodata.json): done\n",
      "Solving environment: done\n",
      "\n",
      "\n",
      "==> WARNING: A newer version of conda exists. <==\n",
      "  current version: 4.8.2\n",
      "  latest version: 22.11.1\n",
      "\n",
      "Please update conda by running\n",
      "\n",
      "    $ conda update -n base -c defaults conda\n",
      "\n",
      "\n",
      "\n",
      "# All requested packages already installed.\n",
      "\n"
     ]
    }
   ],
   "source": [
    "import sys\n",
    "!conda install --yes --prefix {sys.prefix} khmer"
   ]
  },
  {
   "cell_type": "markdown",
   "id": "47c2ea08-92b5-4652-a4c2-83b65ceaebac",
   "metadata": {},
   "source": [
    "#### Rcorrector\n",
    "\n",
    "The Rcorrector software allows for the correction of Illumina RNA-seq , and is necessary for cleaning reads in step 1(Song & Florea, 2015). \n",
    "\n",
    "More information on Rcorrector can be found [here](https://github.com/mourisl/Rcorrector)\n",
    "\n",
    "***To install Rcorrector run the code cell below.***"
   ]
  },
  {
   "cell_type": "code",
   "execution_count": 6,
   "id": "1258991f-4456-4d7e-b6b5-652336e19b80",
   "metadata": {
    "collapsed": true,
    "jupyter": {
     "outputs_hidden": true
    },
    "tags": []
   },
   "outputs": [
    {
     "name": "stdout",
     "output_type": "stream",
     "text": [
      "Collecting package metadata (current_repodata.json): done\n",
      "Solving environment: done\n",
      "\n",
      "\n",
      "==> WARNING: A newer version of conda exists. <==\n",
      "  current version: 4.8.2\n",
      "  latest version: 22.11.1\n",
      "\n",
      "Please update conda by running\n",
      "\n",
      "    $ conda update -n base -c defaults conda\n",
      "\n",
      "\n",
      "\n",
      "# All requested packages already installed.\n",
      "\n"
     ]
    }
   ],
   "source": [
    "import sys\n",
    "!conda install --yes --prefix {sys.prefix} rcorrector"
   ]
  },
  {
   "cell_type": "markdown",
   "id": "0e3749a0-6e7a-4819-8b81-cd31563d6072",
   "metadata": {},
   "source": [
    "#### NextGenMap\n",
    "\n",
    "The NextGenMap software allows for short read mapping with a high sensitivity threshold, and is necessary for step ?* (Sedlazeck et al., 2013).\n",
    "\n",
    "More information on NextGenMap can be found [here](https://github.com/Cibiv/NextGenMap/wiki)\n",
    "\n",
    "***To install NextGenMap run the code cell below.***"
   ]
  },
  {
   "cell_type": "code",
   "execution_count": 16,
   "id": "1841983f-b3fa-44e6-a0b0-6aba5dbeaa26",
   "metadata": {
    "collapsed": true,
    "jupyter": {
     "outputs_hidden": true
    },
    "tags": []
   },
   "outputs": [
    {
     "name": "stdout",
     "output_type": "stream",
     "text": [
      "Collecting package metadata (current_repodata.json): done\n",
      "Solving environment: done\n",
      "\n",
      "\n",
      "==> WARNING: A newer version of conda exists. <==\n",
      "  current version: 4.8.2\n",
      "  latest version: 22.11.1\n",
      "\n",
      "Please update conda by running\n",
      "\n",
      "    $ conda update -n base -c defaults conda\n",
      "\n",
      "\n",
      "\n",
      "# All requested packages already installed.\n",
      "\n"
     ]
    }
   ],
   "source": [
    "import sys\n",
    "!conda install --yes --prefix {sys.prefix} nextgenmap"
   ]
  },
  {
   "cell_type": "markdown",
   "id": "40336b83-39fb-49df-97f0-89aadbb95d48",
   "metadata": {},
   "source": [
    "#### GNU Parallel\n",
    "\n",
    "The GNU Parallel operating system is a free software used to conduct jobs in parallel, and is necessary for step ?* (Tange, 2018).\n",
    "\n",
    "More information on GNU Parallel can be found [here](https://www.gnu.org/software/parallel/)\n",
    "\n",
    "***To install GNU Parallel run the code cell below.***"
   ]
  },
  {
   "cell_type": "code",
   "execution_count": 10,
   "id": "6c7fba73-5faa-4f73-b994-5ebbf070b744",
   "metadata": {
    "collapsed": true,
    "jupyter": {
     "outputs_hidden": true
    },
    "tags": []
   },
   "outputs": [
    {
     "name": "stdout",
     "output_type": "stream",
     "text": [
      "Collecting package metadata (current_repodata.json): done\n",
      "Solving environment: done\n",
      "\n",
      "\n",
      "==> WARNING: A newer version of conda exists. <==\n",
      "  current version: 4.8.2\n",
      "  latest version: 22.11.1\n",
      "\n",
      "Please update conda by running\n",
      "\n",
      "    $ conda update -n base -c defaults conda\n",
      "\n",
      "\n",
      "\n",
      "# All requested packages already installed.\n",
      "\n"
     ]
    }
   ],
   "source": [
    "import sys\n",
    "!conda install --yes --prefix {sys.prefix} parallel"
   ]
  },
  {
   "cell_type": "markdown",
   "id": "1adc27d7-99f6-406c-a504-f01b364fcb76",
   "metadata": {},
   "source": [
    "#### Samtools\n",
    "\n",
    "The Samtools software enables manipulation of next-generation sequencing data (Danecek et al., 2021).\n",
    "\n",
    "More information on Samtools can be found [here](https://github.com/samtools/samtools)\n",
    "\n",
    "***To install Samtools run the code cell below.***"
   ]
  },
  {
   "cell_type": "code",
   "execution_count": 12,
   "id": "2d7ea843-b4b0-4ba0-a274-bb7433663693",
   "metadata": {
    "collapsed": true,
    "jupyter": {
     "outputs_hidden": true
    },
    "tags": []
   },
   "outputs": [
    {
     "name": "stdout",
     "output_type": "stream",
     "text": [
      "Collecting package metadata (current_repodata.json): done\n",
      "Solving environment: done\n",
      "\n",
      "\n",
      "==> WARNING: A newer version of conda exists. <==\n",
      "  current version: 4.8.2\n",
      "  latest version: 22.11.1\n",
      "\n",
      "Please update conda by running\n",
      "\n",
      "    $ conda update -n base -c defaults conda\n",
      "\n",
      "\n",
      "\n",
      "# All requested packages already installed.\n",
      "\n"
     ]
    }
   ],
   "source": [
    "import sys\n",
    "!conda install --yes --prefix {sys.prefix} samtools"
   ]
  },
  {
   "cell_type": "markdown",
   "id": "b06a9546-90a9-4c6a-9439-11fd0507f5c0",
   "metadata": {},
   "source": [
    "#### BCFtools\n",
    "\n",
    "The BCFtools software provides commands used by Samtools and HTSlib which are adjacently installed (Danecek et al., 2021).\n",
    "\n",
    "More information on BCFtools can be found [here](https://github.com/samtools/bcftools)\n",
    "\n",
    "***To install BFCtools run the code cell below.***"
   ]
  },
  {
   "cell_type": "code",
   "execution_count": 14,
   "id": "a586e825-fbdb-4d1f-9202-36caa131d678",
   "metadata": {
    "collapsed": true,
    "jupyter": {
     "outputs_hidden": true
    },
    "tags": []
   },
   "outputs": [
    {
     "name": "stdout",
     "output_type": "stream",
     "text": [
      "Collecting package metadata (current_repodata.json): done\n",
      "Solving environment: done\n",
      "\n",
      "\n",
      "==> WARNING: A newer version of conda exists. <==\n",
      "  current version: 4.8.2\n",
      "  latest version: 22.11.1\n",
      "\n",
      "Please update conda by running\n",
      "\n",
      "    $ conda update -n base -c defaults conda\n",
      "\n",
      "\n",
      "\n",
      "# All requested packages already installed.\n",
      "\n"
     ]
    }
   ],
   "source": [
    "import sys\n",
    "!conda install --yes --prefix {sys.prefix} bcftools"
   ]
  },
  {
   "cell_type": "markdown",
   "id": "44e52d2e-88d2-4057-b050-17faa48ea7d1",
   "metadata": {},
   "source": [
    "#### HTSlib\n",
    "\n",
    "The HTSlib is a C library used for high-throughput sequencing formats used within Samtools and BCFtools (Bonfield et al., 2021).\n",
    "\n",
    "More information on HTSlib can be found [here](https://github.com/samtools/htslib)\n",
    "\n",
    "***To install HTSlib run the code cell below.***"
   ]
  },
  {
   "cell_type": "code",
   "execution_count": 15,
   "id": "15f14fb8-64dc-433c-92c7-64625d1e2735",
   "metadata": {
    "collapsed": true,
    "jupyter": {
     "outputs_hidden": true
    },
    "tags": []
   },
   "outputs": [
    {
     "name": "stdout",
     "output_type": "stream",
     "text": [
      "Collecting package metadata (current_repodata.json): done\n",
      "Solving environment: done\n",
      "\n",
      "\n",
      "==> WARNING: A newer version of conda exists. <==\n",
      "  current version: 4.8.2\n",
      "  latest version: 22.11.1\n",
      "\n",
      "Please update conda by running\n",
      "\n",
      "    $ conda update -n base -c defaults conda\n",
      "\n",
      "\n",
      "\n",
      "# All requested packages already installed.\n",
      "\n"
     ]
    }
   ],
   "source": [
    "import sys\n",
    "!conda install --yes --prefix {sys.prefix} htslib"
   ]
  },
  {
   "cell_type": "markdown",
   "id": "d93f8ff0-51c6-4ab0-be2e-65a0ddd1f151",
   "metadata": {
    "tags": []
   },
   "source": [
    "#### GATK\n",
    "\n",
    "GATK is a **G**enome **A**nalysis **T**ool**K**it designed to identify variants in genomes and is used throughout the pipeline (O’Connor & Van der Auwera, 2020).\n",
    "\n",
    "More information on GATK can be found [here](https://gatk.broadinstitute.org/hc/en-us)\n",
    "\n",
    "***To install GATK run the code cell below.***"
   ]
  },
  {
   "cell_type": "code",
   "execution_count": 17,
   "id": "d87fc2d0-3f2e-41bb-817f-6e1a049fb874",
   "metadata": {
    "collapsed": true,
    "jupyter": {
     "outputs_hidden": true
    },
    "tags": []
   },
   "outputs": [
    {
     "name": "stdout",
     "output_type": "stream",
     "text": [
      "Collecting package metadata (current_repodata.json): done\n",
      "Solving environment: done\n",
      "\n",
      "\n",
      "==> WARNING: A newer version of conda exists. <==\n",
      "  current version: 4.8.2\n",
      "  latest version: 22.11.1\n",
      "\n",
      "Please update conda by running\n",
      "\n",
      "    $ conda update -n base -c defaults conda\n",
      "\n",
      "\n",
      "\n",
      "# All requested packages already installed.\n",
      "\n"
     ]
    }
   ],
   "source": [
    "import sys\n",
    "!conda install --yes --prefix {sys.prefix} gatk"
   ]
  },
  {
   "cell_type": "markdown",
   "id": "2649da02-74ca-4d3d-b4ed-d55228f52d68",
   "metadata": {},
   "source": [
    "#### RAxML\n",
    "\n",
    "RAxML is a **R**andomized **A**xelerated **M**aximised **L**ikelihood algorithim enabling maximum likelihood phylogenetic tree searches and is used in step ?* (Stamatakis, 2006).\n",
    "\n",
    "More information on RAxML can be found [here](https://cme.h-its.org/exelixis/web/software/raxml/index.html)\n",
    "\n",
    "***To install RAxML run the code cell below.***"
   ]
  },
  {
   "cell_type": "code",
   "execution_count": 19,
   "id": "1f06b05b-61e5-49bf-af51-e9e58de17b2d",
   "metadata": {
    "collapsed": true,
    "jupyter": {
     "outputs_hidden": true
    },
    "tags": []
   },
   "outputs": [
    {
     "name": "stdout",
     "output_type": "stream",
     "text": [
      "Collecting package metadata (current_repodata.json): done\n",
      "Solving environment: done\n",
      "\n",
      "\n",
      "==> WARNING: A newer version of conda exists. <==\n",
      "  current version: 4.8.2\n",
      "  latest version: 22.11.1\n",
      "\n",
      "Please update conda by running\n",
      "\n",
      "    $ conda update -n base -c defaults conda\n",
      "\n",
      "\n",
      "\n",
      "# All requested packages already installed.\n",
      "\n"
     ]
    }
   ],
   "source": [
    "import sys\n",
    "!conda install --yes --prefix {sys.prefix} raxml"
   ]
  },
  {
   "cell_type": "markdown",
   "id": "e9610524-f1dd-4cd3-bdf5-18e0b3cb782a",
   "metadata": {},
   "source": [
    "#### Bedtools\n",
    "\n",
    "The bedtools software encompasses many algorithimic programmes used for genome analysis and is used !come back (Quinlan & Hall, 2010).\n",
    "\n",
    "More information on bedtools can be found [here](https://bedtools.readthedocs.io/en/latest/)\n",
    "\n",
    "***To install Bedtools run the code cell below.***"
   ]
  },
  {
   "cell_type": "code",
   "execution_count": 21,
   "id": "7c00407b-fd26-4890-9415-e7b5b4bc2fa2",
   "metadata": {
    "collapsed": true,
    "jupyter": {
     "outputs_hidden": true
    },
    "tags": []
   },
   "outputs": [
    {
     "name": "stdout",
     "output_type": "stream",
     "text": [
      "Collecting package metadata (current_repodata.json): done\n",
      "Solving environment: done\n",
      "\n",
      "\n",
      "==> WARNING: A newer version of conda exists. <==\n",
      "  current version: 4.8.2\n",
      "  latest version: 22.11.1\n",
      "\n",
      "Please update conda by running\n",
      "\n",
      "    $ conda update -n base -c defaults conda\n",
      "\n",
      "\n",
      "\n",
      "# All requested packages already installed.\n",
      "\n"
     ]
    }
   ],
   "source": [
    "import sys\n",
    "!conda install --yes --prefix {sys.prefix} bedtools"
   ]
  },
  {
   "cell_type": "markdown",
   "id": "7e316aa6-e49a-49c0-844e-1a769f9eecf7",
   "metadata": {},
   "source": [
    "#### UCSC LiftOver\n",
    "\n",
    "LiftOver is a tool provided within the UCSC Genome Browser used to collate genetic analyses to the same build, version or collate assemblies (Hinrichs et al., 2006). LiftOver is used in step of the pipeline\n",
    "\n",
    "More information on LiftOver can be found [here](http://hgdownload.cse.ucsc.edu/admin/exe/)\n",
    "\n",
    "***To install LiftOver run the code cell below.***"
   ]
  },
  {
   "cell_type": "code",
   "execution_count": 23,
   "id": "9b0b78d2-6979-4103-9caa-ca96fa93ea66",
   "metadata": {
    "collapsed": true,
    "jupyter": {
     "outputs_hidden": true
    },
    "tags": []
   },
   "outputs": [
    {
     "name": "stdout",
     "output_type": "stream",
     "text": [
      "Collecting package metadata (current_repodata.json): done\n",
      "Solving environment: done\n",
      "\n",
      "\n",
      "==> WARNING: A newer version of conda exists. <==\n",
      "  current version: 4.8.2\n",
      "  latest version: 22.11.1\n",
      "\n",
      "Please update conda by running\n",
      "\n",
      "    $ conda update -n base -c defaults conda\n",
      "\n",
      "\n",
      "\n",
      "# All requested packages already installed.\n",
      "\n"
     ]
    }
   ],
   "source": [
    "import sys\n",
    "!conda install --yes --prefix {sys.prefix} ucsc-liftover"
   ]
  },
  {
   "cell_type": "markdown",
   "id": "37ff7090-d444-4e07-9c4d-5abba54e574c",
   "metadata": {},
   "source": [
    "#### VCFtools\n",
    "\n",
    "The VCFtools program package enables operations such as filtering and categorising variants of VCF (**V**ariant **C**all **F**ormat) files and is used in step ?* (Danecek et al., 2011).\n",
    "\n",
    "More information on VCFtools can be found [here](https://vcftools.github.io/)\n",
    "\n",
    "***To install VCFtools run the code cell below.***"
   ]
  },
  {
   "cell_type": "code",
   "execution_count": 25,
   "id": "d412a89f-361d-495f-bf54-e32be35c712b",
   "metadata": {
    "collapsed": true,
    "jupyter": {
     "outputs_hidden": true
    },
    "tags": []
   },
   "outputs": [
    {
     "name": "stdout",
     "output_type": "stream",
     "text": [
      "Collecting package metadata (current_repodata.json): done\n",
      "Solving environment: done\n",
      "\n",
      "\n",
      "==> WARNING: A newer version of conda exists. <==\n",
      "  current version: 4.8.2\n",
      "  latest version: 22.11.1\n",
      "\n",
      "Please update conda by running\n",
      "\n",
      "    $ conda update -n base -c defaults conda\n",
      "\n",
      "\n",
      "\n",
      "# All requested packages already installed.\n",
      "\n"
     ]
    }
   ],
   "source": [
    "import sys\n",
    "!conda install --yes --prefix {sys.prefix} vcftools"
   ]
  },
  {
   "cell_type": "markdown",
   "id": "63ab8d3e-b707-4a2d-a144-b235c0908d58",
   "metadata": {},
   "source": [
    "#### Picard\n",
    "\n",
    "Picard is a package of command line tools for manipulation of HTS (**H**igh **T**hroughput **S**equencing) data, including identification of duplicated reads as utilized in step 5 (Picard Toolkit, 2018).\n",
    "\n",
    "More information on Picard can be found [here](https://broadinstitute.github.io/picard/)\n",
    "\n",
    "***To install Picard run the code cell below***"
   ]
  },
  {
   "cell_type": "code",
   "execution_count": 2,
   "id": "2bebc29e-5ff8-4328-a9f4-9e9307d427e7",
   "metadata": {
    "collapsed": true,
    "jupyter": {
     "outputs_hidden": true
    },
    "tags": []
   },
   "outputs": [
    {
     "name": "stdout",
     "output_type": "stream",
     "text": [
      "Collecting package metadata (current_repodata.json): done\n",
      "Solving environment: done\n",
      "\n",
      "\n",
      "==> WARNING: A newer version of conda exists. <==\n",
      "  current version: 4.8.2\n",
      "  latest version: 22.11.1\n",
      "\n",
      "Please update conda by running\n",
      "\n",
      "    $ conda update -n base -c defaults conda\n",
      "\n",
      "\n",
      "\n",
      "## Package Plan ##\n",
      "\n",
      "  environment location: /home/agre945/.conda/envs/miss-molly\n",
      "\n",
      "  added / updated specs:\n",
      "    - picard\n",
      "\n",
      "\n",
      "The following packages will be downloaded:\n",
      "\n",
      "    package                    |            build\n",
      "    ---------------------------|-----------------\n",
      "    picard-2.18.29             |                0        13.6 MB  bioconda\n",
      "    ------------------------------------------------------------\n",
      "                                           Total:        13.6 MB\n",
      "\n",
      "The following NEW packages will be INSTALLED:\n",
      "\n",
      "  picard             bioconda/noarch::picard-2.18.29-0\n",
      "\n",
      "\n",
      "\n",
      "Downloading and Extracting Packages\n",
      "picard-2.18.29       | 13.6 MB   | ##################################### | 100% \n",
      "Preparing transaction: done\n",
      "Verifying transaction: done\n",
      "Executing transaction: done\n"
     ]
    }
   ],
   "source": [
    "import sys\n",
    "!conda install --yes --prefix {sys.prefix} picard"
   ]
  },
  {
   "cell_type": "markdown",
   "id": "00e44263-618b-4b86-855c-597aa47345a4",
   "metadata": {},
   "source": [
    "## **Data Input Requirements | Tāuru Raraunga**\n",
    "\n",
    "### Data Collection \n",
    "\n",
    "Orr et al.,(2020) sampled data from a phenotypically mosaic *Eucalyptus melliodora* individual (aka. a Yellow Box tree) in which it was known that one branch expressed resistance to defoliation via the *Anoploganthus* or Christmas beetle genus. From 8 distinct branches, 3 replicate samples were taken from the leaf tip in order to sequence the full genome. \n",
    "\n",
    "Data collected to be used within this pipeline is not restrictive in the number of samples but rather the number of replicates per sample;\n",
    "\n",
    "> #### **!!! TIP !!!**\n",
    ">*There must be at least 2 replicates per sample and an equal number of replicates across all samples. Each sample should be sequenced fully to produce a genome via Illumina.\n",
    "The suffix of the each replicate for one sample should be formatted as follows :*\n",
    "**Sample1a, Sample1b, Sample1c etc.**\n",
    ">\n",
    ">*The raw data inputted should be paired sequencing reads for each sample in FASTQ format. The suffix of the pair files per replicate should be* **\"R1.fastq\"** *and* **\"R2.fastq\"**\n",
    ">\n",
    ">> Raw Data should be deposited in the raw folder (/rep_files/data/raw/), in a new folder \"my_data\". You will see the raw data used by Orr et al.,(2020) in the raw folder which will be used by default.\n",
    "Each **replicate** of one **sample** should have two files in the following format: ***\"Sample1a_R1.fastq\"*** !!!!!!\n",
    "\n",
    "As always, considerations into collecting and using data in a respectful and responsible manner towards communities (across all taxa) should take precedence. \n",
    "\n",
    "### Pseudogenome\n",
    "\n",
    "There was no high-quality reference genome available for *E. melliodora* thus a pseudoreference genome was created using the reference genome of the closely related *Eucalyptus grandis* aka. Rose Gum tree (Bartholomé et al., 2014). \n",
    "> #### **!!! TIP !!!**\n",
    ">*If replicating with your own data, use either the most closely related high quality reference genome available for your sampled taxa OR for your exact taxa if available.*\n",
    ">\n",
    ">*The genome should be in a Fa-file format within a new folder inside the data folder labelled \"my_ref\" (rep_files/data/my_ref/) and the file itself called \"ref.fa\".*\n",
    ">\n",
    ">The *E.grandis* genome found in the \"e_grandis\" folder (/rep_files/data/e_grandis/) will be used by default otherwise.\n"
   ]
  },
  {
   "cell_type": "markdown",
   "id": "710b40d6-548a-40f2-9a78-c138d499dfc8",
   "metadata": {},
   "source": [
    "# **Analysis Makefile**\n",
    "The first makefile that Orr et al., (2020) suggests executing is found within the analysis folder of the repository files. This makefile uses 4 different scripts from the scripts folder with many tasks/rules.\n",
    "The suggested makefile is quite large... Running the entire makefile would take at least a week!\n",
    "\n",
    "The figure below represents the input files and MAIN output files of the analysis makefile. \n",
    "Orr et al., (2020) recommended running the one command highlighted below to execute ALL of the 30 steps in that makefile consecutively.\n",
    "\n",
    "Each step also has unique dependencies, paramaters and input/output specifications that are not detailed within the makefile.\n",
    "Provenance tracking throughout each step of a pipeline is vital to it's reproducibility as well as reusability (Kanwal et al., 2017).\n",
    "\n",
    "**Thus, below the larger makefile has been broken down into several smaller steps.** \n",
    "> *Below are descriptions of each step considering inputs, ouputs, set variables and any potential errors.*\n",
    ">\n",
    "> *Each step can be run individually via code cells, assuming the previous step was executed.\n",
    "> Variables can be altered and outputs verified inbetween steps.*"
   ]
  },
  {
   "attachments": {
    "216c5d64-2141-4a79-aa5f-a737282880c7.png": {
     "image/png": "[encoded data removed]"
    }
   },
   "cell_type": "markdown",
   "id": "88b8be59-d178-49a5-854e-2b0113d04d52",
   "metadata": {},
   "source": [
    "![figure1.png](attachment:216c5d64-2141-4a79-aa5f-a737282880c7.png)"
   ]
  },
  {
   "cell_type": "markdown",
   "id": "1f73d07e-f9b3-4b6c-b40f-d0e8a1839255",
   "metadata": {},
   "source": [
    "### **SCRIPT PATH INITIALIZATION**\n",
    "\n",
    "Before executing any steps, it is important we initialize the environments of the scripts used.\n",
    "Not setting the correct paths/directories when replicating a bioinformatic pipeline is a common source of error. \n",
    "\n",
    "> #### **For each code cell make sure to initialize variables/inputs as directed before running the step!**"
   ]
  },
  {
   "cell_type": "code",
   "execution_count": null,
   "id": "8da6f472-7874-4a5d-a7f8-91107cb54c2e",
   "metadata": {},
   "outputs": [],
   "source": [
    "# Export the path for the scripts used FIRST\n",
    "!export PATH=$PATH:scale_wlg_nobackup/filesets/nobackup/uoa03626/ag-som-variation/SRS-AG/rep_files/scripts\n"
   ]
  },
  {
   "cell_type": "markdown",
   "id": "972e226c-4089-4b5f-bf54-fdb0f25b03e6",
   "metadata": {},
   "source": [
    "### **Step One | Read Correction**\n",
    "The first step of the pipeline is to *correct* the raw reads.\n",
    "\n",
    "This step utilizes the algorthims provided by the **[Rcorrector](https://www.researchgate.net/publication/283260409_Rcorrector_efficient_and_accurate_error_correction_for_Illumina_RNA-seq_reads)** software to determine trusted kmers (using a De Brujin Graph) which will be further used in the next step to correct random sequencing errors producing sliced reads.\n",
    "\n",
    "#### **Input Data**\n",
    "> Raw reads with the suffix \"R1.fastq\" within the directory specified via the **READSFOLDER** variable are utilized. *I.e. the first of the paired reads for one replicate*. By default this is **\"../data/raw/\"**.\n",
    "> \n",
    "> If using your own raw reads, you may want to change the directory utilising the code in the code cell below.\n",
    "\n",
    "#### **Scripts Used**\n",
    "> Lines 100-103 of the script clean_reads.sh execute this step. \n",
    ">\n",
    "> The clean_reads.sh script is called in line 25 of the Makefile. (This utilizies the directories set via **SCRIPTDIR** and **CLEANREADS**).\n",
    ">\n",
    "> By default this script **utilises 48 threads**. However, this can be changed in the code cell below.\n",
    ">\n",
    "> *A reminder that it is not recommended to set the threads below 20 as this will result in a very long runtime... (2 days +)*\n",
    "\n",
    "#### **Output Produced**\n",
    "> The corrected reads will be outputted in a folder named \"corrected\"found in the \"./cleaned_reads\" folder.\n",
    "> \n",
    "> The code in the cell below can be used to check if the correct files have been  produced in the corrected folder."
   ]
  },
  {
   "cell_type": "code",
   "execution_count": 34,
   "id": "64ac6b1d-28f8-446e-9b55-310646742289",
   "metadata": {},
   "outputs": [],
   "source": [
    "# TIP - Remove hash from code below and run cell to execute!\n",
    "# SET UP\n",
    "\n",
    "# Use own raw data \n",
    "#!sed -i '/READSFOLDER=/c\\READSFOLDER=*path/to/your/raw/data*' *your/path/here*/analysis/Makefile\n",
    "\n",
    "# Change Default Threads Used\n",
    "#!sed -i '/THREADS=48/c\\THREADS=*VALUE*' *your/path/here*/scripts/clean_reads.sh \n",
    "\n",
    "# Run lines below to initialize steps 1-3\n",
    "\n",
    "#!sed -i '/LOAD_COUNTING=/c\\LOAD_COUNTING=\"*your-path-here*/load-into-counting-COR.py\"' *your-path-here*/clean_reads.sh\n",
    "#!sed -i '/SLICE_BY_COV=/c\\SLICE_BY_COV=\"*your-path-here*/slice-paired-reads-by-coverage.py\"' *your-path-here*/clean_reads.sh"
   ]
  },
  {
   "cell_type": "code",
   "execution_count": 35,
   "id": "eabc56ea-1a1d-4a69-af48-daf2e6afbede",
   "metadata": {},
   "outputs": [
    {
     "name": "stdout",
     "output_type": "stream",
     "text": [
      "/scale_wlg_nobackup/filesets/nobackup/uoa03626/ag-som-variation/SRS-AG/rep_files/scripts/clean_reads.sh -i /scale_wlg_nobackup/filesets/nobackup/uoa03626/ag-som-variation/SRS-AG/rep_files/data/raw/\n",
      "DEFINE STEP\n",
      "make: *** [cleaned_reads/SRR9650850_RRR1.cor_sliced.fastq] Error 1\n"
     ]
    }
   ],
   "source": [
    "# RUN STEP ONE ONLY\n",
    "\n",
    "#Set step one to true\n",
    "#!sed -i '/STEP_1=false/c\\STEP_1=true' *your/path/here*/clean_reads.sh \n",
    "\n",
    "#Make sure in correct directory (analysis folder)\n",
    "import os\n",
    "os.chdir('/scale_wlg_nobackup/filesets/nobackup/uoa03626/ag-som-variation/SRS-AG/rep_files/analysis/test')\n",
    "\n",
    "# Run it :)\n",
    "!make ${SLICEDREADS}"
   ]
  },
  {
   "cell_type": "code",
   "execution_count": 9,
   "id": "c7416a38-0b61-488e-a356-f70351e13f08",
   "metadata": {
    "tags": []
   },
   "outputs": [
    {
     "name": "stdout",
     "output_type": "stream",
     "text": [
      "SRR9650833_RRR1.cor.fq\tSRR9650841_RRR1.cor.fq\tSRR9650849_RRR1.cor.fq\n",
      "SRR9650833_RRR2.cor.fq\tSRR9650841_RRR2.cor.fq\tSRR9650849_RRR2.cor.fq\n",
      "SRR9650834_RRR1.cor.fq\tSRR9650842_RRR1.cor.fq\tSRR9650850_RRR1.cor.fq\n",
      "SRR9650834_RRR2.cor.fq\tSRR9650842_RRR2.cor.fq\tSRR9650850_RRR2.cor.fq\n",
      "SRR9650835_RRR1.cor.fq\tSRR9650843_RRR1.cor.fq\tSRR9650851_RRR1.cor.fq\n",
      "SRR9650835_RRR2.cor.fq\tSRR9650843_RRR2.cor.fq\tSRR9650851_RRR2.cor.fq\n",
      "SRR9650836_RRR1.cor.fq\tSRR9650844_RRR1.cor.fq\tSRR9650852_RRR1.cor.fq\n",
      "SRR9650836_RRR2.cor.fq\tSRR9650844_RRR2.cor.fq\tSRR9650852_RRR2.cor.fq\n",
      "SRR9650837_RRR1.cor.fq\tSRR9650845_RRR1.cor.fq\tSRR9650853_RRR1.cor.fq\n",
      "SRR9650837_RRR2.cor.fq\tSRR9650845_RRR2.cor.fq\tSRR9650853_RRR2.cor.fq\n",
      "SRR9650838_RRR1.cor.fq\tSRR9650846_RRR1.cor.fq\tSRR9650854_RRR1.cor.fq\n",
      "SRR9650838_RRR2.cor.fq\tSRR9650846_RRR2.cor.fq\tSRR9650854_RRR2.cor.fq\n",
      "SRR9650839_RRR1.cor.fq\tSRR9650847_RRR1.cor.fq\tSRR9650855_RRR1.cor.fq\n",
      "SRR9650839_RRR2.cor.fq\tSRR9650847_RRR2.cor.fq\tSRR9650855_RRR2.cor.fq\n",
      "SRR9650840_RRR1.cor.fq\tSRR9650848_RRR1.cor.fq\tSRR9650856_RRR1.cor.fq\n",
      "SRR9650840_RRR2.cor.fq\tSRR9650848_RRR2.cor.fq\tSRR9650856_RRR2.cor.fq\n"
     ]
    }
   ],
   "source": [
    "# Check Corrected Reads (CHECK OUTPUT)\n",
    "\n",
    "#import os\n",
    "#os.chdir ('your/path/here/rep_files/analysis/cleaned_reads/corrected')\n",
    "#!ls"
   ]
  },
  {
   "cell_type": "markdown",
   "id": "32130ea3-fd8b-4758-a2f6-a9c0f6b42174",
   "metadata": {},
   "source": [
    "### **Step Two | Khmer Count Graph**\n",
    "The second step is to store trusted kmers in a khmer graph, which will then be used to filter corrected reads which are excessively high coverage to reduce errors when mapping reads to the reference genome. This is done using the [Khmer](https://www.researchgate.net/publication/282249513_The_khmer_software_package_Enabling_efficient_nucleotide_sequence_analysis) software.\n",
    "\n",
    "#### **Input Data**\n",
    "> Corrected reads produced from step one which were deposited in the \"./cleaned_reads/corrected\" folder are used. \n",
    "\n",
    "#### **Scripts Used**\n",
    "> Line 106 of the script clean_reads.sh executes this step, calling on the script load-into-counting-COR.py provided (due to changes in Khmer software scripts).\n",
    ">\n",
    "> The clean_reads.sh script is called in line 25 of the Makefile\n",
    "> (This utilizies the directories set via **SCRIPTDIR** and **CLEANREADS**).\n",
    "\n",
    "#### **Outputs Produced**\n",
    "> The Khmer graph itself is ouputted within the \"./cleaned_reads\" folder in a Binary file labelled **\"khmer_count.graph\"** alongside a textfile labelled **\"khmer_count.graph.info\"**.\n",
    ">\n",
    "> The textfile displays which khmer software version is installed, which files kmers were obtained from, the total number of unique kmers obtained and the **fp** *(false positive)* **rate**.\n",
    ">\n",
    "> If the last two values are displayed as zero, it is likely that an error occured!\n",
    "> **Check the values by running the code in the cells below!**"
   ]
  },
  {
   "cell_type": "code",
   "execution_count": 2,
   "id": "8d6c2804-8229-4ef9-ba5e-be10d1a197a5",
   "metadata": {},
   "outputs": [
    {
     "name": "stdout",
     "output_type": "stream",
     "text": [
      "/scale_wlg_nobackup/filesets/nobackup/uoa03626/ag-som-variation/SRS-AG/rep_files/scripts/clean_reads.sh -i /scale_wlg_nobackup/filesets/nobackup/uoa03626/ag-som-variation/SRS-AG/rep_files/data/raw/\n",
      "Executing Step Two\n",
      "\n",
      "|| This is the script load-into-counting-COR.py in khmer.\n",
      "|| You are running khmer version 3.0.0a3\n",
      "|| You are also using screed version 1.0.4\n",
      "||\n",
      "|| If you use this script in a publication, please cite EACH of the following:\n",
      "||\n",
      "||   * MR Crusoe et al., 2015. https://doi.org/10.12688/f1000research.6924.1\n",
      "||   * Q Zhang et al., https://doi.org/10.1371/journal.pone.0101271\n",
      "||   * A. Döring et al. https://doi.org:80/10.1186/1471-2105-9-11\n",
      "||\n",
      "|| Please see http://khmer.readthedocs.io/en/latest/citations.html for details.\n",
      "\n",
      "\n",
      "PARAMETERS:\n",
      " - kmer size =     32 \t\t(-k)\n",
      " - n tables =      4 \t\t(-N)\n",
      " - max tablesize = 1.6e+10 \t(-x)\n",
      "Estimated memory usage is 64.0 Gb (6.4e+10 bytes = 4 bytes x 1.6e+10 entries / 1 entries per byte)\n",
      "--------\n",
      "ERROR: Input file ./cleaned_reads/corrected/*.cor.fq does not exist\n",
      "NOTE: This can be overridden using the --force argument\n",
      "Exiting\n",
      "make: *** [cleaned_reads/SRR9650850_RRR1.cor_sliced.fastq] Error 1\n"
     ]
    }
   ],
   "source": [
    "# RUN STEP TWO ONLY\n",
    "\n",
    "#Set step one to false and step two to true\n",
    "#!sed -i '/STEP_1=true/c\\STEP_1=false' *your/path/here*/clean_reads.sh \n",
    "#!sed -i '/STEP_2=false/c\\STEP_1=true' *your/path/here*/clean_reads.sh\n",
    "\n",
    "#Make sure in correct directory (analysis folder)\n",
    "import os\n",
    "os.chdir('/scale_wlg_nobackup/filesets/nobackup/uoa03626/ag-som-variation/SRS-AG/rep_files/analysis/test')\n",
    "\n",
    "# Run it :)\n",
    "!make ${SLICEDREADS}"
   ]
  },
  {
   "cell_type": "code",
   "execution_count": 8,
   "id": "153ed0e8-056c-44e3-b986-51910d9ff4dc",
   "metadata": {},
   "outputs": [
    {
     "name": "stdout",
     "output_type": "stream",
     "text": [
      "Total number of unique k-mers: 4536784228\n",
      "fp rate estimated to be 0.004\n",
      "\n"
     ]
    }
   ],
   "source": [
    "# Run the lines below to check the fp rate and total khmer value\n",
    "\n",
    "import os\n",
    "os.getcwd() #run this line first to get your own cleaned_reads folder file path and replace below\n",
    "os.chdir('[your path]/rep_files/analysis/cleaned_reads')\n",
    "os.getcwd()# run to check working directory correct\n",
    "!tail -3 khmer_count.graph.info"
   ]
  },
  {
   "cell_type": "markdown",
   "id": "732aa26a-1252-48c1-9015-6d8161addda7",
   "metadata": {
    "tags": []
   },
   "source": [
    "### **Step Three | Read Slicing**\n",
    "The third step of the pipeline is to slice the corrected reads, removing reads which have high or low coverage level. \n",
    "\n",
    "The default maximum coverage specified is 40000, however, this can be altered in the cell below. \n",
    "\n",
    "*Information on filtering reads using coverage and what threshold might be appropiate for your data can be found [here](https://khmer-recipes.readthedocs.io/en/latest/001-extract-reads-by-coverage/).*\n",
    "\n",
    "#### **Input Data**\n",
    "> Corrected reads produced from step one which were deposited in the \"./cleaned_reads/corrected\" folder are used as well as their respective unique kmers stored in the khmer_count.graph file in the same folder.\n",
    "\n",
    "#### **Scripts Used**\n",
    "> Lines 108-122 of the script clean_reads.sh executes this step, calling on the script slice-paired-reads-coverage.py provided (altered from khmer's script to handle paired-end reads). \n",
    ">\n",
    "> The clean_reads.sh script is called in line 25 of the Makefile\n",
    "> (This utilizies the directories set via **SCRIPTDIR** and **CLEANREADS**).\n",
    "\n",
    "#### **Outputs Produced**\n",
    "> Paired reads which passed the coverage filtering will be outputted in a folder \"sliced\" found in the \"./cleaned_reads\" folder. \n",
    ">\n",
    "> Reads which passed filtering while their pair did not will also be outputted in the sliced folder and can be identified with the suffix \".cor_singletons.fastq\"\n",
    ">\n",
    "> The code in the cell below can be used to check if the correct files have been  produced in the sliced folder. \n"
   ]
  },
  {
   "cell_type": "code",
   "execution_count": null,
   "id": "743ba791-b4b3-4cbb-8a49-c7389eeccf44",
   "metadata": {},
   "outputs": [],
   "source": [
    "# STEP THREE INPUT\n",
    "\n",
    "# Change the max coverage to desired value below-> ** = replace\n",
    "#!sed -i '/COVERAGE=/c\\COVERAGE=*VALUE*' *your/path/here*/clean_reads.sh "
   ]
  },
  {
   "cell_type": "code",
   "execution_count": 36,
   "id": "9ee0a9bd-1bba-4daa-990a-2c1ece811da0",
   "metadata": {},
   "outputs": [
    {
     "name": "stdout",
     "output_type": "stream",
     "text": [
      "/scale_wlg_nobackup/filesets/nobackup/uoa03626/ag-som-variation/SRS-AG/rep_files/scripts/clean_reads.sh -i /scale_wlg_nobackup/filesets/nobackup/uoa03626/ag-som-variation/SRS-AG/rep_files/data/raw/\n",
      "Executing Step Three\n",
      "Academic tradition requires you to cite works you base your article on.\n",
      "If you use programs that use GNU Parallel to process data for an article in a\n",
      "scientific publication, please cite:\n",
      "\n",
      "  Tange, O. (2022, November 22). GNU Parallel 20221122 ('Херсо́н').\n",
      "  Zenodo. https://doi.org/10.5281/zenodo.7347980\n",
      "\n",
      "This helps funding further development; AND IT WON'T COST YOU A CENT.\n",
      "If you pay 10000 EUR you should feel free to use GNU Parallel without citing.\n",
      "\n",
      "More about funding GNU Parallel and the citation notice:\n",
      "https://www.gnu.org/software/parallel/parallel_design.html#citation-notice\n",
      "\n",
      "To silence this citation notice: run 'parallel --citation' once.\n",
      "\n",
      "parallel: Warning: Input is read from the terminal. You are either an expert\n",
      "parallel: Warning: (in which case: YOU ARE AWESOME!) or maybe you forgot\n",
      "parallel: Warning: ::: or :::: or -a or to pipe data into parallel. If so\n",
      "parallel: Warning: consider going through the tutorial: man parallel_tutorial\n",
      "parallel: Warning: Press CTRL-D to exit.\n",
      "^C\n",
      "make: *** [cleaned_reads/SRR9650850_RRR1.cor_sliced.fastq] Error 1\n"
     ]
    }
   ],
   "source": [
    "# RUN STEP THREE ONLY\n",
    "\n",
    "#Set step two to false and step three to true\n",
    "#!sed -i '/STEP_2=true/c\\STEP_2=false' *your/path/here*/clean_reads.sh \n",
    "#!sed -i '/STEP_3=false/c\\STEP_3=true' *your/path/here*/clean_reads.sh\n",
    "\n",
    "#Make sure in correct directory (analysis folder)\n",
    "import os\n",
    "os.chdir('/scale_wlg_nobackup/filesets/nobackup/uoa03626/ag-som-variation/SRS-AG/rep_files/analysis/test')\n",
    "\n",
    "# Run it :)\n",
    "!make ${SLICEDREADS}"
   ]
  },
  {
   "cell_type": "code",
   "execution_count": 6,
   "id": "ebaf0715-cd84-40f5-b296-dc82d03bd0fc",
   "metadata": {},
   "outputs": [],
   "source": [
    "# Check Sliced Reads \n",
    "#!ls [your_path]/rep_files/analysis/cleaned_reads/sliced\n"
   ]
  },
  {
   "cell_type": "markdown",
   "id": "4e3c1361-00b1-4c59-b5db-77457d9bfb4d",
   "metadata": {},
   "source": [
    "### **Step Four | Align Reads to Reference Genome**\n",
    "The fourth step of the pipeline is to align/map reads to the reference genome (*Eucalyptus grandis* in the original exp.) using the [NextGenMap](https://cibiv.github.io/NextGenMap/) algorithim.\n",
    "\n",
    "#### **Input Data**\n",
    "> The inputted reads are denoted by -i in the Makefile and the reference file to align to is denoted by -r. These values change depending on which iteration is occuring, but will consist of one reference genome/consensus genome and sequenced reads (corrected or otherwise). \n",
    ">> **!!! SEE ITERATIONS OF STEPS FOUR AND FIVE !!!** \n",
    "\n",
    "#### **Scripts Used**\n",
    "> The script ngm_alinger.sh is used for this step, found in the scripts folder of the repository.\n",
    ">\n",
    "> This script is first called in line 47 of the Makefile (*due to iterations*).\n",
    ">\n",
    "> By default this script **utilises 48 threads**. However, this can be changed in the code cell below.\n",
    ">\n",
    "> *A reminder that it is not recommended to set the threads below 20 as this will result in a very long runtime... (2 days +)*\n",
    "\n",
    "#### **Outputs Produced**\n",
    "> The output file of step four is a bam file (*aka. a Binary Alignment Map*) of the aligned reads denoted by the variable -o in ngm_aligner.sh which by default is the reference genome file name and iteration number in the following format **\"e_mel_1.bam\"**. \n",
    ">\n",
    "> Whilst running this script a **temporary file (tmp)** will be produced.\n",
    "> This temporary file is quite large, and by default it stored in the tmp directory of your computer's node. \n",
    "> To change the directory in which the tmp file is produced run the code in the cell below. \n",
    ">\n",
    "> To check if the bam file per iteration has been produced and is not empty run the code in the cell below."
   ]
  },
  {
   "cell_type": "code",
   "execution_count": null,
   "id": "7436c15e-c891-4ceb-b705-3bbbb4970fae",
   "metadata": {},
   "outputs": [],
   "source": [
    "# STEP FOUR INPUTS\n",
    "\n",
    "# Change tmp file directory\n",
    "#!sed -i '/TMPOPTION=\"\"/c\\TMPOPTION=\"your/directory\"' *your/path/here*/ngm_aligner.sh \n",
    "\n",
    "# Change Default Threads Used\n",
    "#!sed -i '/CORES=48/c\\CORES=*VALUE*' *your/path/here*/ngm_aligner.sh\n"
   ]
  },
  {
   "cell_type": "code",
   "execution_count": 5,
   "id": "8d09492e-56ad-4337-8dd7-397a260943d1",
   "metadata": {},
   "outputs": [
    {
     "name": "stdout",
     "output_type": "stream",
     "text": [
      "Executing Step Five Iteration Three\n",
      "Makefile:34: *** recipe commences before first target.  Stop.\n"
     ]
    }
   ],
   "source": [
    "# RUN STEP FOUR ONLY\n",
    "\n",
    "#Make sure in correct directory (analysis folder)\n",
    "import os\n",
    "os.chdir('/scale_wlg_nobackup/filesets/nobackup/uoa03626/ag-som-variation/SRS-AG/rep_files/analysis/')\n",
    "\n",
    "# Run it :)\n",
    "# Change the num e_mel_** for the iteration number\n",
    "# e.g e_mel_2/e_mel_2.bam\n",
    "!make e_mel_1/e_mel_1.bam"
   ]
  },
  {
   "cell_type": "code",
   "execution_count": 11,
   "id": "fd9d8295-994e-465d-8b30-cbbbca7b5764",
   "metadata": {},
   "outputs": [
    {
     "name": "stdout",
     "output_type": "stream",
     "text": [
      "131G\te_mel_1.bam\n"
     ]
    }
   ],
   "source": [
    "# CHECK OUTPUTS\n",
    "\n",
    "# Change directory to folder of current iteration\n",
    "#import os\n",
    "#os.chdir('/your/path/to/analysis/e_mel_*iteration num*')\n",
    "\n",
    "# Check presence and size of bam file\n",
    "!du -bsh *"
   ]
  },
  {
   "cell_type": "markdown",
   "id": "bc790a0d-0630-4315-bff9-7ec5636db762",
   "metadata": {},
   "source": [
    "### **Step Five | Create a Consensus Sequence from the BAM**\n",
    "The fifth step of the pipeline is to create a consensus FASTA sequence using the algorithims [bcftools consensus](https://samtools.github.io/bcftools/howtos/consensus-sequence.html), [picard](https://broadinstitute.github.io/picard/) and [tabix](http://www.htslib.org/doc/tabix.html) both provided by samtools. \n",
    "\n",
    "The final iteration of the consensus sequence will be utilized as the pseudogenome reference genome.\n",
    "\n",
    "#### **Input Data**\n",
    "> The inputted data is the BAM file of the previous iteration produced by step 4 above.\n",
    ">> **!!! SEE ITERATIONS OF STEPS FOUR AND FIVE !!!**\n",
    "\n",
    "#### **Scripts Used**\n",
    "> The script create_consensus.sh is used for this step, found in the scripts folder of the repository. This script is fist called in line 35 of the Makefile \n",
    "> (*due to iterations*).\n",
    "> This script utilises the bam file created in step 4 (of the aligned reads) as well as the reference genome (or the previous iterations consensus sequence) to produce a conensus sequence.\n",
    ">\n",
    "> **IMPORTANT** A default filter in this script IGNORES sites where the number of alternative allele(s) found is equal to 1.\n",
    "> More information on bcftools filters can be found  [here](http://www.htslib.org/doc/1.0/bcftools.html#filter).\n",
    "> This filter can be adjusted in the code cell below.\n",
    ">\n",
    "> By default this script **utilises 48 threads**. However, this can be changed in the code cell below.\n",
    ">\n",
    "> *A reminder that it is not recommended to set the threads below 20 as this will result in a very long runtime... (2 days +)*\n",
    "\n",
    "\n",
    "#### **Outputs Produced**\n",
    "> The consensus FASTA sequence is outputted as a file denoted by -o in create_consensus.sh which by default is theis the reference genome file name and iteration number in the following format **\"e_mel_1.fa\"**. Take note of the size of this file, it should be approximately near the size of your reference genome. Too large or too small can indicate errors.\n",
    ">\n",
    "> Additionally, a chain file documenting each rearrangement between the input BAM file and the output consensus file. By default this has the same name as the outputted consensus sequence with the suffix \".chain\". Again, make sure this file is not empty below.\n",
    ">\n",
    "> As above in step 4, a large temporary file is produced. To change the directory of this tmp file use the code in the cell below.\n",
    ">\n",
    "> While using the bcf tools algorithim a vcf file containing genotype calls is generated but by default NOT SAVED as an output file. This is because this pipeline rellies on the [GATK best practices](https://gatk.broadinstitute.org/hc/en-us/sections/360007226651)\n",
    "workflow to call the genotype variants further along in the pipeline. This vcf file was used to create the consensus sequence. \n"
   ]
  },
  {
   "cell_type": "code",
   "execution_count": null,
   "id": "bbea6fb1-799e-4b5b-9ae8-2ecaf4eb0d02",
   "metadata": {},
   "outputs": [],
   "source": [
    "# STEP FIVE INPUT\n",
    "\n",
    "# To adjust the Alternative Allele filter\n",
    "## If you want to remove the filter completely DO NOT SET AC TO 0! -> INSTEAD let FILTER=''\n",
    "## The value of AC will reflect the number of alt alleles that will cause a site to be ignored!\n",
    "# !sed -i '/FILTER='AC==1'/c\\FILTER=''' *your-path-here*/create_consensus.sh\n",
    "\n",
    "# Change tmp file directory\n",
    "#!sed -i '/TMPOPTION=\"\"/c\\TMPOPTION=\"your/directory\"' *your/path/here*/create_consensus.sh \n",
    "\n",
    "# Change Default Threads Used\n",
    "#!sed -i '/CORES=48/c\\CORES=*VALUE*' *your/path/here*/create_consensus.sh\n",
    "\n",
    "# To save the bcf tools generated vcf file \n",
    "# !sed -i '/BCFTOOLSFILE=/c\\BCFTOOLSFILE=\"*your_bcf_file.vcf\"' *your-path-here*/create_consensus.sh"
   ]
  },
  {
   "cell_type": "code",
   "execution_count": null,
   "id": "8f98cf03-5048-4308-bb08-ede04d363dba",
   "metadata": {},
   "outputs": [],
   "source": [
    "# RUN STEP FIVE ONLY\n",
    "\n",
    "#Make sure in correct directory (analysis folder)\n",
    "import os\n",
    "os.chdir('/scale_wlg_nobackup/filesets/nobackup/uoa03626/ag-som-variation/SRS-AG/rep_files/analysis/test')\n",
    "\n",
    "# Run it :)\n",
    "# Change the num e_mel_** for the iteration number\n",
    "# e.g e_mel_2/e_mel_2.fa\n",
    "!make e_mel_1/e_mel_1.fa"
   ]
  },
  {
   "cell_type": "code",
   "execution_count": null,
   "id": "9410e039-40f4-456b-8dda-d70a527e2b9a",
   "metadata": {},
   "outputs": [],
   "source": [
    "# CHECK OUPUT \n",
    "\n",
    "# Change directory to folder of current iteration\n",
    "#import os\n",
    "#os.chdir('/your/path/to/analysis/e_mel_*iteration num*')\n",
    "\n",
    "# Check presence and size of ouput files\n",
    "!du -bsh *\n"
   ]
  },
  {
   "cell_type": "markdown",
   "id": "26f86bce-fc28-49f2-93d7-3d4b4d6213cc",
   "metadata": {},
   "source": [
    "### **Iterations of Steps Four and Five**\n",
    "In the original pipeline created by Orr et al., (2020), steps four and five were repeated two times using the previous consensus produced as a reference genome.\n",
    "These repitions were conducted to ensure that the final pseudoreference genome best reflected not only the species but the specific somatic mutations represented in the individual sequenced. \n",
    "\n",
    "Skipping these iterations is NOT recommended for further progression in the pipeline.\n",
    "However, to obtain a pseudogenome at a species level specifity level it is possible to skip these iterations of steps four and five. \n",
    "\n",
    "\n",
    "To complete the iterations, change the iteration number of the target in the make command of steps four and five as instructed above.\n",
    "\n",
    "> **WARNING**\n",
    ">\n",
    "> Completing the iterations of steps four and five requires a large amount of RAM. \n",
    ">\n",
    "> DO NOT delete files in between iterations as they rely on one another. \n",
    ">\n",
    "> Take care when setting the temporary file directory that there is sufficient RAM available. "
   ]
  },
  {
   "cell_type": "markdown",
   "id": "b4e95aad-14cf-4e88-9a79-42f1d21a1d14",
   "metadata": {},
   "source": [
    "### **Step 6 | The Final Alingment**\n",
    "The sixth step of the pipeline aligns the **RAW/UNCORRECTED READS** using the last iteration consensus sequence produced, assumed to be e_mel_3/e_mel_.fa.\n",
    "This is the final alignment that will occur, producing the base pseudo-reference genome.\n",
    "\n",
    "The raw reads are used instead of the corrected or sliced reads for this final alingment as to minimise interference with algorithim of the variant caller, **GATK HaplotypeCaller**, specifically some built-in read filters. Using the corrected or sliced reads in step 6 could result in filter hyper-sensitivity, thereby falsely removing sequences and reducing the accuracy of the final results.\n",
    "\n",
    "More information on the mechanisms and variables/filters of the variant caller can be found [here](https://gatk.broadinstitute.org/hc/en-us/articles/360037225632-HaplotypeCaller#:~:text=The%20HaplotypeCaller%20is%20capable%20of,the%20reads%20in%20that%20region).\n",
    "\n",
    "#### **Input Data**\n",
    "> The last iterated consensus sequence (e_mel_3/e_mel_3.fa) as specified in line 53 of the Analysis makefile.\n",
    ">> *If you wish to use the reference genome (perhaps if you skipped iterations of step 4 and 5) or another reference see the input code cell below*\n",
    ">\n",
    "> The raw reads (of which the directory is specified as READSFOLDER in line 2 of the makefile (*see step one code cell to change*)) as specified in line 54 of the Analysis makefile.\n",
    ">> *If you wish to used the cleaned reads instead, see the input code cell below.*\n",
    ">> ***Please take into account the potential hypersensitivty issues when using the cleaned reads***\n",
    "\n",
    "#### **Scripts Used**\n",
    "> The script ngm_alinger.sh is used for this step, found in the scripts folder of the repository.\n",
    ">\n",
    "> This script is called in line 54 of the Makefile within step 6.\n",
    ">\n",
    "> By default this script **utilises 48 threads**. However, this can be changed, see the input cell below.\n",
    ">\n",
    "> *A reminder that it is not recommended to set the threads below 20 as this will result in a very long runtime... (2 days +)*\n",
    "\n",
    "#### **Outputs Produced**\n",
    "> The output file of step six is a bam file (*aka. a Binary Alignment Map*) of the aligned reads denoted by the variable -o in ngm_aligner.sh which by default is \"alignment.bam\" for step 6. \n",
    ">\n",
    "> Whilst running this script a **temporary file (tmp)** will be produced.\n",
    "> This temporary file is quite large, and by default it stored in the tmp directory of your computer's node. \n",
    "> To change the directory in which the tmp file is produced run the code in the cell below. \n",
    ">\n",
    "> To check if the bam file per iteration has been produced and is not empty run the code in the cell below."
   ]
  },
  {
   "cell_type": "code",
   "execution_count": null,
   "id": "1a96a297-03df-4c98-892e-b28cb17e744b",
   "metadata": {},
   "outputs": [],
   "source": [
    "# STEP SIX INPUTS\n",
    "\n",
    "# Use reference genome, if you wish to use another sequence paste the path to it below instead of ${REF}\n",
    "#!sed -i '/alingment.bam: e_mel_3/e_mel_3.fa/c\\alingment.bam: ${REF}' *your/path/here*/analysis/makefile\n",
    "\n",
    "# Use the cleaned reads. Below is assuming you wish to use e_mel_3/e_mel_3.fa as the reference genomne. Otherwise replace with ${REF} as above\n",
    "#!sed -i '/alingment.bam: e_mel_3/e_mel_3.fa/c\\alingment.bam: e_mel_3/e_mel_3.fa $(SLICEDREADS)' *your/path/here*/analysis/makefile\n",
    "#!sed -i '/${NGMALIGNER} -r $< -o $@ -i ${READSFOLDER}/c\\${NGMALIGNER} -r $< -o $@ -i ${CLEANFOLDER}' *your/path/here*/analysis/makefile\n",
    "\n",
    "# Change tmp file directory\n",
    "#!sed -i '/TMPOPTION=\"\"/c\\TMPOPTION=\"your/directory\"' *your/path/here*/ngm_aligner.sh \n",
    "\n",
    "# Change Default Threads Used\n",
    "#!sed -i '/CORES=48/c\\CORES=*VALUE*' *your/path/here*/ngm_aligner.sh\n"
   ]
  },
  {
   "cell_type": "code",
   "execution_count": 11,
   "id": "d1502744-2b02-4194-a404-afc7ac94793a",
   "metadata": {},
   "outputs": [],
   "source": [
    "# Run Step Six Only\n",
    "\n",
    "#Make sure in correct directory (analysis folder)\n",
    "import os\n",
    "os.chdir('/scale_wlg_nobackup/filesets/nobackup/uoa03626/ag-som-variation/SRS-AG/rep_files/analysis/')\n",
    "\n",
    "# Run it\n",
    "#!make alignment.bam "
   ]
  },
  {
   "cell_type": "code",
   "execution_count": null,
   "id": "39e153c8-9acd-47a3-82c6-f26e2fad2250",
   "metadata": {},
   "outputs": [],
   "source": [
    "# Check Output\n",
    "\n",
    "# Change directory to analysis folder \n",
    "#import os\n",
    "#os.chdir('/your/path/to/analysis/)\n",
    "\n",
    "# Check presence and size of ouput files\n",
    "!du -bsh *"
   ]
  },
  {
   "cell_type": "markdown",
   "id": "2b33e921-71f8-4246-b4e8-689c4f2bcb31",
   "metadata": {},
   "source": [
    "### **Step 7 | Deduplication of Pseudogenome**\n",
    "The seventh step of the pipeline uses the MarkDuplicates tool from the [Picard Toolkit](https://broadinstitute.github.io/picard/) package to mark and delete duplicated reads using the final alingment BAM file produced in step 6. \n",
    "\n",
    "Steps 7-11 of the pipeline utilise clean up the pseudo-reference genome using methods described in the [GATK Best Practices Workflow](https://gatk.broadinstitute.org/hc/en-us/articles/360035894711-About-the-GATK-Best-Practices), specifically the data clean up operations described in the 'data pre-processing' workflow. The data pre-processing worflow will produce a BAM file which is ready for variant calling analysis. \n",
    "\n",
    "#### **Input Data**\n",
    "> The final alingment BAM file produced by step 6, found in the analysis folder.\n",
    ">> *If you wish to use another BAM file, perhaps if you skipped the iterations of steps 4 and 5, see the input code cell below*\n",
    "\n",
    "#### **Scripts Used**\n",
    "> Line 57 of the makefile directly calls upon the MarkDuplicates tool provided by the Picard toolkit. More information on this tool can be found [here](https://gatk.broadinstitute.org/hc/en-us/articles/360037052812-MarkDuplicates-Picard-).  \n",
    "> The following arguements are provided, and can be adjusted in the input code cell below:\n",
    ">> The argument \"-Xmx200g\" provided before picard is called sets the heap memory max allowed by Java. Information can be found [here](https://docs.oracle.com/cd/E19563-01/819-4438/gavou/index.html)\n",
    ">> \n",
    ">> The argument \"INPUT=\\$<\" specifies the input BAM file used and can be changed in the code input cell below. \n",
    ">>\n",
    ">> The argument \"OUTPUT=\\$@\" specifies the location of the output BAM file and can be changed in the code input cell below.\n",
    ">>\n",
    ">> The argument \"METRICS_FILE=\\$@.metrics.txt\" specifies the name of the metrics text file containing information about duplications which is stored in the temporary directory. Information can be found [here](https://gatk.broadinstitute.org/hc/en-us/articles/360037052812-MarkDuplicates-Picard-#--METRICS_FILE)\n",
    ">>\n",
    ">> The argument \"CREATE_INDEX=TRUE\" provided specifies whether or not to create a BAM index file. Information can be found [here](https://gatk.broadinstitute.org/hc/en-us/articles/360037052812-MarkDuplicates-Picard-#--CREATE_INDEX)\n",
    ">>\n",
    ">> The argument \"MAX_FILE_HANDLES_FOR_READ_ENDS_MAP=1000\" specifies the maximum number of file handles used by the MarkDuplicates program. This number should be set LOWER than the maximum number per process for your device (**THIS CAN BE FOUND RUNNING THE CODE IN THE INPUT CELL BELOW**). Information can be found [here](https://gatk.broadinstitute.org/hc/en-us/articles/360037052812-MarkDuplicates-Picard-#--MAX_FILE_HANDLES_FOR_READ_ENDS_MAP)\n",
    ">>\n",
    ">> The argument \"TMP_DIR=$TMPDIR\" specifies the temporary directory used to store the metrics file. The variable TMP_DIR can be changed in the makefile using the input code cell \n",
    "\n",
    "#### **Outputs Produced**\n",
    "> The ouput produced is a BAM file by default named \"alingment.dedup.bam\" and found in the analysis folder\n",
    ">\n",
    "> To check if the bam file has been produced in the analysis folder and is not empty run the code in the ouput cell below."
   ]
  },
  {
   "cell_type": "code",
   "execution_count": 1,
   "id": "b240d8f4-3a28-46f8-9aeb-d60c2c1fa673",
   "metadata": {},
   "outputs": [
    {
     "name": "stdout",
     "output_type": "stream",
     "text": [
      "131072\n"
     ]
    }
   ],
   "source": [
    "# STEP SEVEN INPUTS\n",
    "\n",
    "# Change the arguments in the script below if required, and/or add new arguments. \n",
    "# To change the input file change the INPUT value to the file name, and export the path for this file beforehand. \n",
    "# To change the ouput file name, replace \"$@\" with \"$@.filename.bam\"\n",
    "\n",
    "# Check max file handles for your device below to set for \"MAX_FILE_HANDLES_FOR_READ_ENDS_MAP\".. (!make sure you set this lower than the max!)\n",
    "!ulimit -n\n",
    "\n",
    "# Export the path to input file BELOW\n",
    "#!export PATH=$PATH:your/path/here/to/file\n",
    "\n",
    "# Add/edit arguments BELOW\n",
    "#!sed -i '/\tpicard -Xmx200g MarkDuplicates INPUT=$< OUTPUT=$@ METRICS_FILE=$@.metrics.txt CREATE_INDEX=TRUE MAX_FILE_HANDLES_FOR_READ_ENDS_MAP=1000 TMP_DIR=$TMPDIR/c\\\tpicard -Xmx*200*g MarkDuplicates INPUT=*$<* OUTPUT=*$@* METRICS_FILE=*$@.metrics.txt* CREATE_INDEX=*TRUE* MAX_FILE_HANDLES_FOR_READ_ENDS_MAP=*1000* TMP_DIR=*$TMPDIR*' *your/path/here*/analysis/Makefile"
   ]
  },
  {
   "cell_type": "code",
   "execution_count": 10,
   "id": "3687d70d-3154-4d6f-8fcb-be9607169fd6",
   "metadata": {
    "tags": []
   },
   "outputs": [],
   "source": [
    "# Run Step Seven Only\n",
    "\n",
    "#Make sure in correct directory (analysis folder)\n",
    "import os\n",
    "os.chdir('/scale_wlg_nobackup/filesets/nobackup/uoa03626/ag-som-variation/SRS-AG/rep_files/analysis/')\n",
    "\n",
    "# Run it\n",
    "#!make alignment.dedup.bam"
   ]
  },
  {
   "cell_type": "code",
   "execution_count": 12,
   "id": "7fc53009-5857-4830-a323-4c0fabb51042",
   "metadata": {},
   "outputs": [
    {
     "name": "stdout",
     "output_type": "stream",
     "text": [
      "1005G\tcleaned_reads\n",
      "26K\tdng\n",
      "131G\te_mel_1\n",
      "4.0K\te_mel_2\n",
      "4.0K\te_mel_3\n",
      "28K\tfalse_negative_rate\n",
      "7.3K\tfalse_positive_rate\n",
      "5.5K\tgatk4\n",
      "4.8K\tMakefile\n",
      "13\tREADME.md\n",
      "29K\ttest\n",
      "4.4K\tvariant_table\n"
     ]
    }
   ],
   "source": [
    "# Check Output\n",
    "\n",
    "# Change directory to analysis folder \n",
    "#import os\n",
    "#os.chdir('/your/path/to/analysis/)\n",
    "\n",
    "# Check presence and size of ouput files\n",
    "!du -bsh *"
   ]
  }
 ],
 "metadata": {
  "kernelspec": {
   "display_name": "Miss Molly <3",
   "language": "python",
   "name": "miss-molly"
  },
  "language_info": {
   "codemirror_mode": {
    "name": "ipython",
    "version": 3
   },
   "file_extension": ".py",
   "mimetype": "text/x-python",
   "name": "python",
   "nbconvert_exporter": "python",
   "pygments_lexer": "ipython3",
   "version": "3.6.15"
  }
 },
 "nbformat": 4,
 "nbformat_minor": 5
}
