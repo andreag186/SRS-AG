{
 "cells": [
  {
   "cell_type": "markdown",
   "id": "f8fc6946-3f8f-487b-ac20-ccc9d58e56e1",
   "metadata": {
    "tags": []
   },
   "source": [
    "# **TITLE**\n",
    "### Author : Andrea Grecu"
   ]
  },
  {
   "cell_type": "markdown",
   "id": "23c04c8d-eea7-45fb-8086-dd44c6f07d67",
   "metadata": {},
   "source": [
    "## **Background**\n",
    "\n",
    "Orr et al., (2020) described a phylogenomic method to measure somatic mutations within a phenotypically mosaic plant individual and further predict the somatic mutation rate within that individual. Both the bioinformatic workflow (*aka. pipeline*) and inputted data used are open-access and found within the orginal journal publication linked below.\n",
    "\n",
    "[Orr et al., ORIGINAL!](https://www.ncbi.nlm.nih.gov/pmc/articles/PMC7126060/)\n",
    "\n",
    "The original pipeline created by Orr et al., (2020) was published within a github repository utilizing many bioinformatics tools using  5+ programming languages overall. The suggested method to replicate this pipeline is via using the makefiles provided.\n",
    "\n",
    "***While the original pipeline is open acess, it is not particulary user friendly.***\n",
    "\n",
    "Computational methods within bioinformatics often fall short in reproducbility due to insufficient or inacessible documentation (Birmingham, 2017). It is imperative to the progression of bioinformatics research that an effort is made to produce interactive methods which are accessible to a wider audience with limited computer literacy. \n",
    "\n",
    "> ### Thus, the purpose of this notebook is to provide an easy to follow replication of the original pipeline created by Orr et al., (2020) to detect somatic mutations. \n",
    ">The notebook provides a *computational narrative* incorporating inputs, outputs and easy to understand explanations of each step. \n",
    "> By detailing the assumptions,logic, necessary input data and expected ouput this notebook should enable this pipeline to be applied to a new set of collected data. \n",
    "\n"
   ]
  },
  {
   "cell_type": "code",
   "execution_count": null,
   "id": "15820f45-c679-41ae-941a-2c14e443a3e9",
   "metadata": {},
   "outputs": [],
   "source": []
  }
 ],
 "metadata": {
  "kernelspec": {
   "display_name": "studyenv",
   "language": "python",
   "name": "studyenv"
  },
  "language_info": {
   "codemirror_mode": {
    "name": "ipython",
    "version": 3
   },
   "file_extension": ".py",
   "mimetype": "text/x-python",
   "name": "python",
   "nbconvert_exporter": "python",
   "pygments_lexer": "ipython3",
   "version": "3.8.15"
  }
 },
 "nbformat": 4,
 "nbformat_minor": 5
}
