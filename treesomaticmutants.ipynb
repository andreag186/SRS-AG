{
 "cells": [
  {
   "cell_type": "markdown",
   "id": "f8fc6946-3f8f-487b-ac20-ccc9d58e56e1",
   "metadata": {
    "tags": []
   },
   "source": [
    "# **TITLE**\n",
    "### Author : Andrea Grecu"
   ]
  },
  {
   "cell_type": "markdown",
   "id": "23c04c8d-eea7-45fb-8086-dd44c6f07d67",
   "metadata": {},
   "source": [
    "## **Background**\n",
    "\n",
    "This notebook is"
   ]
  },
  {
   "cell_type": "code",
   "execution_count": null,
   "id": "15820f45-c679-41ae-941a-2c14e443a3e9",
   "metadata": {},
   "outputs": [],
   "source": []
  }
 ],
 "metadata": {
  "kernelspec": {
   "display_name": "studyenv",
   "language": "python",
   "name": "studyenv"
  },
  "language_info": {
   "codemirror_mode": {
    "name": "ipython",
    "version": 3
   },
   "file_extension": ".py",
   "mimetype": "text/x-python",
   "name": "python",
   "nbconvert_exporter": "python",
   "pygments_lexer": "ipython3",
   "version": "3.8.15"
  }
 },
 "nbformat": 4,
 "nbformat_minor": 5
}
