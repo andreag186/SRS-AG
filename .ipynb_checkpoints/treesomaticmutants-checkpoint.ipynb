{
 "cells": [
  {
   "cell_type": "markdown",
   "id": "f8fc6946-3f8f-487b-ac20-ccc9d58e56e1",
   "metadata": {
    "tags": []
   },
   "source": [
    "# **TITLE**\n",
    "### Author : Andrea Grecu"
   ]
  },
  {
   "cell_type": "markdown",
   "id": "23c04c8d-eea7-45fb-8086-dd44c6f07d67",
   "metadata": {},
   "source": [
    "## **Background | Pūtake**\n",
    "\n",
    "Orr et al., (2020) described a phylogenomic method to measure somatic mutations within a phenotypically mosaic plant individual and further predict the somatic mutation rate within that individual. Both the bioinformatic workflow (*aka. pipeline*) and inputted data used are open-access and found within the orginal journal publication linked below.\n",
    "\n",
    "[Orr et al., ORIGINAL!](https://www.ncbi.nlm.nih.gov/pmc/articles/PMC7126060/)\n",
    "\n",
    "The original pipeline created by Orr et al., (2020) was published within a github repository utilizing many bioinformatics tools using  5+ programming languages overall. The suggested method to replicate this pipeline is via using the makefiles provided.\n",
    "\n",
    "### Āheitanga\n",
    "\n",
    "***While the original pipeline is open access, it is not particulary user friendly.***\n",
    "\n",
    "Computational methods within bioinformatics often fall short in reproducbility due to insufficient or inacessible documentation (Birmingham, 2017). It is imperative to the progression of bioinformatics research that an effort is made to produce interactive methods which are accessible to a wider audience with limited computer literacy. \n",
    "\n",
    "> ### Thus, the purpose of this notebook is to provide an easy to follow replication of the original pipeline created by Orr et al., (2020) to detect somatic mutations. \n",
    ">The notebook provides a *computational narrative* incorporating inputs, outputs and easy to understand explanations of each step. \n",
    "> By detailing the assumptions,logic, necessary input data and expected ouput this notebook should enable this pipeline to be applied to a new set of collected data.\n"
   ]
  },
  {
   "cell_type": "markdown",
   "id": "fc030401-943e-498b-b82d-8cabeceb38d6",
   "metadata": {},
   "source": [
    "## **Required Software Installation |  Tāuta**\n",
    "\n",
    "Prior to running this pipeline, the appropiate software's must be installed. \n",
    "This can be done directly within this notebook by running the cells below.\n"
   ]
  },
  {
   "cell_type": "markdown",
   "id": "9a69e977-8284-4e03-b6e3-de6c1d9b05d0",
   "metadata": {},
   "source": [
    "#### Bioconda \n",
    "Most of the packages used further along in this pipeline are provided via the **Bioconda** channel (package manager). \n",
    "More information about bioconda can be found [here](https://bioconda.github.io/)\n",
    "\n",
    "***To install bioconda run the code cell below.***"
   ]
  },
  {
   "cell_type": "code",
   "execution_count": 14,
   "id": "e8e4a15d-f2be-4be9-9d5c-0b849b566bf8",
   "metadata": {},
   "outputs": [
    {
     "name": "stdout",
     "output_type": "stream",
     "text": [
      "Warning: 'defaults' already in 'channels' list, moving to the top\n",
      "Warning: 'bioconda' already in 'channels' list, moving to the top\n",
      "Warning: 'conda-forge' already in 'channels' list, moving to the top\n"
     ]
    }
   ],
   "source": [
    "import sys \n",
    "!conda config --add channels defaults\n",
    "!conda config --add channels bioconda\n",
    "!conda config --add channels conda-forge\n",
    "!conda config --set channel_priority strict"
   ]
  },
  {
   "cell_type": "markdown",
   "id": "9437073e-10b3-439b-97e6-e802cacf338d",
   "metadata": {},
   "source": [
    "#### Khmer\n",
    "\n",
    "The khmer software allows for nucleotide sequence analysis, and is necessary for step (* COME BACK) -> uses the clean reads shell (Crusoe et al., 2015). More information on Khmer can be found [here](https://github.com/dib-lab/khmer)\n",
    "\n",
    "***To install Khmer run the code cell below.***"
   ]
  },
  {
   "cell_type": "code",
   "execution_count": 15,
   "id": "5924bebf-68b9-4c3b-b033-50a47224db79",
   "metadata": {},
   "outputs": [
    {
     "name": "stdout",
     "output_type": "stream",
     "text": [
      "Collecting package metadata (current_repodata.json): done\n",
      "Solving environment: done\n",
      "\n",
      "\n",
      "==> WARNING: A newer version of conda exists. <==\n",
      "  current version: 22.11.0\n",
      "  latest version: 22.11.1\n",
      "\n",
      "Please update conda by running\n",
      "\n",
      "    $ conda update -n base -c defaults conda\n",
      "\n",
      "Or to minimize the number of packages updated during conda update use\n",
      "\n",
      "     conda install conda=22.11.1\n",
      "\n",
      "\n",
      "\n",
      "# All requested packages already installed.\n",
      "\n"
     ]
    }
   ],
   "source": [
    "import sys\n",
    "!conda install --yes --prefix {sys.prefix} khmer"
   ]
  },
  {
   "cell_type": "markdown",
   "id": "47c2ea08-92b5-4652-a4c2-83b65ceaebac",
   "metadata": {},
   "source": [
    "#### Rcorrector\n",
    "\n",
    "The Rcorrector software allows for the correction of Illumina RNA-seq , and is necessary for cleaning the reads (STEP 1*). More information on Rcorrector can be found [here](https://github.com/mourisl/Rcorrector)\n",
    "\n",
    "***To install Rcorrector run the code cell below.***"
   ]
  },
  {
   "cell_type": "code",
   "execution_count": 16,
   "id": "1258991f-4456-4d7e-b6b5-652336e19b80",
   "metadata": {},
   "outputs": [
    {
     "name": "stdout",
     "output_type": "stream",
     "text": [
      "Collecting package metadata (current_repodata.json): done\n",
      "Solving environment: done\n",
      "\n",
      "\n",
      "==> WARNING: A newer version of conda exists. <==\n",
      "  current version: 22.11.0\n",
      "  latest version: 22.11.1\n",
      "\n",
      "Please update conda by running\n",
      "\n",
      "    $ conda update -n base -c defaults conda\n",
      "\n",
      "Or to minimize the number of packages updated during conda update use\n",
      "\n",
      "     conda install conda=22.11.1\n",
      "\n",
      "\n",
      "\n",
      "# All requested packages already installed.\n",
      "\n"
     ]
    }
   ],
   "source": [
    "import sys\n",
    "!conda install --yes --prefix {sys.prefix} rcorrector"
   ]
  }
 ],
 "metadata": {
  "kernelspec": {
   "display_name": "studyenv",
   "language": "python",
   "name": "studyenv"
  },
  "language_info": {
   "codemirror_mode": {
    "name": "ipython",
    "version": 3
   },
   "file_extension": ".py",
   "mimetype": "text/x-python",
   "name": "python",
   "nbconvert_exporter": "python",
   "pygments_lexer": "ipython3",
   "version": "3.8.15"
  }
 },
 "nbformat": 4,
 "nbformat_minor": 5
}
